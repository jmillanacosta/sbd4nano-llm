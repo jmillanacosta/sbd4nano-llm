{
 "cells": [
  {
   "attachments": {},
   "cell_type": "markdown",
   "metadata": {},
   "source": [
    "https://docs.google.com/spreadsheets/d/1CFGZq90xc1V0ARubq3ZXT5G2KoMewEJWazLnCtIIa5M/edit#gid=0\n",
    "\n",
    "https://huggingface.co/datasets/squad\n",
    "\n",
    "https://github.com/huggingface/transformers/tree/main/examples/pytorch/question-answering\n",
    "\n",
    "Create question answering training dataset from GO table:\n",
    "- answer_start = find the start of the annotated answer in the full text file\n",
    "- text = text of the answer\n",
    "- context = full text\n",
    "- id = number from (0, len(GO))\n",
    "- question: Does the Graphene Oxide {property} correlate positively or negatively with {effect} in {biosystem_organism}?\n",
    "- title = title for question"
   ]
  },
  {
   "cell_type": "code",
   "execution_count": 1,
   "metadata": {},
   "outputs": [
    {
     "name": "stdout",
     "output_type": "stream",
     "text": [
      "Requirement already satisfied: PyPDF2 in /home/javier/miniconda3/lib/python3.9/site-packages (3.0.1)\n",
      "Requirement already satisfied: typing_extensions>=3.10.0.0 in /home/javier/miniconda3/lib/python3.9/site-packages (from PyPDF2) (4.6.3)\n",
      "Note: you may need to restart the kernel to use updated packages.\n"
     ]
    }
   ],
   "source": [
    "%pip install PyPDF2\n"
   ]
  },
  {
   "cell_type": "code",
   "execution_count": 2,
   "metadata": {},
   "outputs": [
    {
     "name": "stderr",
     "output_type": "stream",
     "text": [
      "/home/javier/miniconda3/lib/python3.9/site-packages/fuzzywuzzy/fuzz.py:11: UserWarning: Using slow pure-python SequenceMatcher. Install python-Levenshtein to remove this warning\n",
      "  warnings.warn('Using slow pure-python SequenceMatcher. Install python-Levenshtein to remove this warning')\n"
     ]
    }
   ],
   "source": [
    "import os\n",
    "# Necessary to import OpenAI\n",
    "with open('assets/openai_api_key', 'r') as f:\n",
    "    openai_api_key = f.read()\n",
    "    os.environ['OPENAI_API_KEY'] = openai_api_key\n",
    "from pathlib import Path\n",
    "\n",
    "import json\n",
    "import pandas as pd\n",
    "import re\n",
    "\n",
    "import PyPDF4\n",
    "import xml.etree.ElementTree as ET\n",
    "from unstructured.partition.auto import partition\n",
    "from unstructured.documents.elements import Text\n",
    "from unstructured.cleaners.core import replace_unicode_quotes\n",
    "from unstructured.cleaners.core import bytes_string_to_string\n",
    "from unstructured.cleaners.core import clean\n",
    "from fuzzywuzzy import fuzz"
   ]
  },
  {
   "cell_type": "code",
   "execution_count": 3,
   "metadata": {},
   "outputs": [],
   "source": [
    "dataset_path = '../data/graphene_oxide.tsv'\n",
    "paper_path = '../data/docs/'\n",
    "pickle_path = '../data/pickle/'\n",
    "chroma_path = '../data/chroma/'\n",
    "MODEL = 'gpt-3.5-turbo'"
   ]
  },
  {
   "cell_type": "code",
   "execution_count": 4,
   "metadata": {},
   "outputs": [
    {
     "data": {
      "text/plain": [
       "Index(['property', 'effect', 'type_relation', 'dose', 'material',\n",
       "       'biosystem_organism', 'quote', 'doi', 'filenames'],\n",
       "      dtype='object')"
      ]
     },
     "execution_count": 4,
     "metadata": {},
     "output_type": "execute_result"
    }
   ],
   "source": [
    "go = pd.read_csv('../data/graphene_oxide.tsv', sep=\"\\t\").dropna(how='any')\n",
    "dois = [str(article) for article in set(go['doi']) if 'doi' in str(article)]\n",
    "go = go[go['doi'].isin(dois)]\n",
    "go['filenames'] = ['../data/docs/'+i.replace('http://', '').replace('doi.org/', '').replace('/', '.').replace('dx.', '') for i in go['doi']]\n",
    "go.columns"
   ]
  },
  {
   "cell_type": "code",
   "execution_count": 5,
   "metadata": {},
   "outputs": [
    {
     "data": {
      "text/html": [
       "<div>\n",
       "<style scoped>\n",
       "    .dataframe tbody tr th:only-of-type {\n",
       "        vertical-align: middle;\n",
       "    }\n",
       "\n",
       "    .dataframe tbody tr th {\n",
       "        vertical-align: top;\n",
       "    }\n",
       "\n",
       "    .dataframe thead th {\n",
       "        text-align: right;\n",
       "    }\n",
       "</style>\n",
       "<table border=\"1\" class=\"dataframe\">\n",
       "  <thead>\n",
       "    <tr style=\"text-align: right;\">\n",
       "      <th></th>\n",
       "      <th>property</th>\n",
       "      <th>effect</th>\n",
       "      <th>type_relation</th>\n",
       "      <th>dose</th>\n",
       "      <th>material</th>\n",
       "      <th>biosystem_organism</th>\n",
       "      <th>quote</th>\n",
       "      <th>doi</th>\n",
       "      <th>filenames</th>\n",
       "    </tr>\n",
       "  </thead>\n",
       "  <tbody>\n",
       "    <tr>\n",
       "      <th>count</th>\n",
       "      <td>14</td>\n",
       "      <td>14</td>\n",
       "      <td>14</td>\n",
       "      <td>14</td>\n",
       "      <td>14</td>\n",
       "      <td>14</td>\n",
       "      <td>14</td>\n",
       "      <td>14</td>\n",
       "      <td>14</td>\n",
       "    </tr>\n",
       "    <tr>\n",
       "      <th>unique</th>\n",
       "      <td>4</td>\n",
       "      <td>7</td>\n",
       "      <td>3</td>\n",
       "      <td>11</td>\n",
       "      <td>3</td>\n",
       "      <td>11</td>\n",
       "      <td>10</td>\n",
       "      <td>6</td>\n",
       "      <td>6</td>\n",
       "    </tr>\n",
       "    <tr>\n",
       "      <th>top</th>\n",
       "      <td>Dose</td>\n",
       "      <td>cell viability</td>\n",
       "      <td>DoesNotCorrelate</td>\n",
       "      <td>&lt; 20 μg/mL</td>\n",
       "      <td>GO</td>\n",
       "      <td>Mice&gt;0.4mg/mouse</td>\n",
       "      <td>graphene oxides under low dose (0.1 mg) and mi...</td>\n",
       "      <td>https://doi.org/10.1007/s11671-010-9751-6</td>\n",
       "      <td>../data/docs/https:..10.1007.s11671-010-9751-6</td>\n",
       "    </tr>\n",
       "    <tr>\n",
       "      <th>freq</th>\n",
       "      <td>8</td>\n",
       "      <td>3</td>\n",
       "      <td>6</td>\n",
       "      <td>2</td>\n",
       "      <td>12</td>\n",
       "      <td>2</td>\n",
       "      <td>3</td>\n",
       "      <td>6</td>\n",
       "      <td>6</td>\n",
       "    </tr>\n",
       "  </tbody>\n",
       "</table>\n",
       "</div>"
      ],
      "text/plain": [
       "       property          effect     type_relation        dose material  \\\n",
       "count        14              14                14          14       14   \n",
       "unique        4               7                 3          11        3   \n",
       "top        Dose  cell viability  DoesNotCorrelate  < 20 μg/mL       GO   \n",
       "freq          8               3                 6           2       12   \n",
       "\n",
       "       biosystem_organism                                              quote  \\\n",
       "count                  14                                                 14   \n",
       "unique                 11                                                 10   \n",
       "top      Mice>0.4mg/mouse  graphene oxides under low dose (0.1 mg) and mi...   \n",
       "freq                    2                                                  3   \n",
       "\n",
       "                                              doi  \\\n",
       "count                                          14   \n",
       "unique                                          6   \n",
       "top     https://doi.org/10.1007/s11671-010-9751-6   \n",
       "freq                                            6   \n",
       "\n",
       "                                             filenames  \n",
       "count                                               14  \n",
       "unique                                               6  \n",
       "top     ../data/docs/https:..10.1007.s11671-010-9751-6  \n",
       "freq                                                 6  "
      ]
     },
     "execution_count": 5,
     "metadata": {},
     "output_type": "execute_result"
    }
   ],
   "source": [
    "go.describe()"
   ]
  },
  {
   "cell_type": "code",
   "execution_count": 6,
   "metadata": {},
   "outputs": [],
   "source": [
    "def strip_xml_tags(text):\n",
    "    # Remove XML tags from the text using regular expressions\n",
    "    return re.sub(r'<[^>]+>', '', text)\n",
    "\n",
    "def get_full_text(doi):\n",
    "    my_files = os.listdir('../data/docs')\n",
    "    doi = doi.split(\"/\")[-1]\n",
    "    if '/' in doi:\n",
    "        doi = doi.split('/')[1]\n",
    "    \n",
    "    for file in my_files:\n",
    "        if doi in file:\n",
    "            filepath = os.path.join('../data/docs', file)\n",
    "            print(f'Parsing {filepath}')\n",
    "            elements = partition(filepath)\n",
    "            full_text = \" \".join([strip_xml_tags(str(el)) for el in elements])\n",
    "            return full_text\n",
    "        else:\n",
    "            if '/' in doi:\n",
    "                doi_attempt = doi.split('/')[1]\n",
    "                if doi_attempt in file:\n",
    "                    print(f'Parsing {filepath}')\n",
    "                    elements = partition(filepath)\n",
    "                    full_text = \" \".join([strip_xml_tags(str(el)) for el in elements])\n",
    "                    return full_text\n",
    "\n",
    "def find_answer_start(context, answer):\n",
    "\n",
    "    max = 7\n",
    "    start = context.find(answer[0:max])\n",
    "    while start == -1 and start >0:\n",
    "        max -=1\n",
    "        start = context.find(answer[0:max])\n",
    "    return start"
   ]
  },
  {
   "cell_type": "code",
   "execution_count": 7,
   "metadata": {},
   "outputs": [
    {
     "name": "stdout",
     "output_type": "stream",
     "text": [
      "Looking for https://doi.org/10.1016/j.biomaterials.2012.02.021 in ../data/docs\n",
      "Parsing ../data/docs/j.biomaterials.2012.02.021.xml\n",
      "Looking for https://doi.org/10.1007/s11671-010-9751-6 in ../data/docs\n",
      "Parsing ../data/docs/s11671-010-9751-6.xml\n",
      "Looking for dx.doi.org/10.1021/tx400385x in ../data/docs\n",
      "Parsing ../data/docs/tx400385x.pdf\n",
      "Looking for https://doi.org/10.1021/nn101097v in ../data/docs\n",
      "Parsing ../data/docs/nn101097v.pdf\n",
      "Looking for https://doi.org/10.1021/acsomega.2c03171 in ../data/docs\n",
      "Parsing ../data/docs/acsomega.2c03171.xml\n",
      "Looking for https://doi.org/10.1016/j.envpol.2017.12.034 in ../data/docs\n",
      "Parsing ../data/docs/j.envpol.2017.12.034.xml\n"
     ]
    }
   ],
   "source": [
    "squad_sbd4nano = pd.DataFrame()\n",
    "\n",
    "for index, row in go.iterrows():\n",
    "    id = str(index)\n",
    "    title = str(row['doi'])\n",
    "    context = str(get_full_text(title))\n",
    "    question = f'Which effects are described for graphene oxide (GO)   nanomaterials and how do they relate to its properties?'\n",
    "    text = str(row['quote'])\n",
    "    answer_start = str(find_answer_start(context, text))\n",
    "    answers = {\"text\": text, \"answer_start\": answer_start}\n",
    "    new_row = [id,title,context,question,answers]\n",
    "    squad_sbd4nano = pd.concat([squad_sbd4nano, new_row])\n",
    "\n",
    "squad_sbd4nano.columns = ['id', 'title', 'context', 'question', 'answers']\n",
    "squad_sbd4nano.to_json('squad_sbd4nano_go.json')"
   ]
  },
  {
   "attachments": {},
   "cell_type": "markdown",
   "metadata": {},
   "source": [
    "https://huggingface.co/datasets/squad\n",
    "\n",
    "\n",
    "{\n",
    "\n",
    "    \"answers\": {\n",
    "\n",
    "        \"answer_start\": [1],\n",
    "\n",
    "        \"text\": [\"This is a test text\"]\n",
    "\n",
    "    },\n",
    "\n",
    "    \"context\": \"This is a test context.\",\n",
    "\n",
    "    \"id\": \"1\",\n",
    "\n",
    "    \"question\": \"Is this a test?\",\n",
    "\n",
    "    \"title\": \"train test\"\n",
    "    \n",
    "}\n"
   ]
  },
  {
   "cell_type": "code",
   "execution_count": 9,
   "metadata": {},
   "outputs": [
    {
     "data": {
      "text/plain": [
       "[{'answers': {'answer_start': int, 'text': str},\n",
       "  'context': str,\n",
       "  'id': int,\n",
       "  'question': str,\n",
       "  'title': str},\n",
       " {'answers': {'answer_start': int, 'text': str},\n",
       "  'context': str,\n",
       "  'id': int,\n",
       "  'question': str,\n",
       "  'title': str},\n",
       " {'answers': {'answer_start': int, 'text': str},\n",
       "  'context': str,\n",
       "  'id': int,\n",
       "  'question': str,\n",
       "  'title': str},\n",
       " {'answers': {'answer_start': int, 'text': str},\n",
       "  'context': str,\n",
       "  'id': int,\n",
       "  'question': str,\n",
       "  'title': str},\n",
       " {'answers': {'answer_start': int, 'text': str},\n",
       "  'context': str,\n",
       "  'id': int,\n",
       "  'question': str,\n",
       "  'title': str},\n",
       " {'answers': {'answer_start': int, 'text': str},\n",
       "  'context': str,\n",
       "  'id': int,\n",
       "  'question': str,\n",
       "  'title': str},\n",
       " {'answers': {'answer_start': int, 'text': str},\n",
       "  'context': str,\n",
       "  'id': int,\n",
       "  'question': str,\n",
       "  'title': str},\n",
       " {'answers': {'answer_start': int, 'text': str},\n",
       "  'context': str,\n",
       "  'id': int,\n",
       "  'question': str,\n",
       "  'title': str},\n",
       " {'answers': {'answer_start': int, 'text': str},\n",
       "  'context': str,\n",
       "  'id': int,\n",
       "  'question': str,\n",
       "  'title': str},\n",
       " {'answers': {'answer_start': int, 'text': str},\n",
       "  'context': str,\n",
       "  'id': int,\n",
       "  'question': str,\n",
       "  'title': str},\n",
       " {'answers': {'answer_start': int, 'text': str},\n",
       "  'context': str,\n",
       "  'id': int,\n",
       "  'question': str,\n",
       "  'title': str},\n",
       " {'answers': {'answer_start': int, 'text': str},\n",
       "  'context': str,\n",
       "  'id': int,\n",
       "  'question': str,\n",
       "  'title': str},\n",
       " {'answers': {'answer_start': int, 'text': str},\n",
       "  'context': str,\n",
       "  'id': int,\n",
       "  'question': str,\n",
       "  'title': str},\n",
       " {'answers': {'answer_start': int, 'text': str},\n",
       "  'context': str,\n",
       "  'id': int,\n",
       "  'question': str,\n",
       "  'title': str}]"
      ]
     },
     "execution_count": 9,
     "metadata": {},
     "output_type": "execute_result"
    }
   ],
   "source": []
  }
 ],
 "metadata": {
  "kernelspec": {
   "display_name": "base",
   "language": "python",
   "name": "python3"
  },
  "language_info": {
   "codemirror_mode": {
    "name": "ipython",
    "version": 3
   },
   "file_extension": ".py",
   "mimetype": "text/x-python",
   "name": "python",
   "nbconvert_exporter": "python",
   "pygments_lexer": "ipython3",
   "version": "3.9.13"
  },
  "orig_nbformat": 4
 },
 "nbformat": 4,
 "nbformat_minor": 2
}
