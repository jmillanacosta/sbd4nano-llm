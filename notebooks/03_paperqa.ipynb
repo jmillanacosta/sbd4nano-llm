{
 "cells": [
  {
   "cell_type": "code",
   "execution_count": 1,
   "metadata": {},
   "outputs": [],
   "source": [
    "import os\n",
    "# Necessary to import OpenAI\n",
    "with open('assets/openai_api_key', 'r') as f:\n",
    "    os.environ['OPENAI_API_KEY'] = f.read()\n",
    "from pathlib import Path\n",
    "import paperqa \n",
    "from langchain.chat_models import ChatOpenAI\n",
    "import pickle\n",
    "import nest_asyncio\n",
    "from IPython.display import display, Markdown, Latex\n",
    "nest_asyncio.apply()"
   ]
  },
  {
   "cell_type": "code",
   "execution_count": 2,
   "metadata": {},
   "outputs": [],
   "source": [
    "docs_pickle = '../data/paperqa/docs.pickle'\n",
    "model_name = 'gpt-3.5-turbo'\n",
    "folder_input = '../data/docs/'"
   ]
  },
  {
   "cell_type": "code",
   "execution_count": 3,
   "metadata": {},
   "outputs": [],
   "source": [
    "docs_name = os.path.basename(os.path.normpath(folder_input))\n",
    "index_path = os.path.join(folder_input,docs_name)"
   ]
  },
  {
   "cell_type": "code",
   "execution_count": 4,
   "metadata": {},
   "outputs": [],
   "source": [
    "docs = paperqa.Docs(llm=ChatOpenAI(temperature=0.0, model_name=model_name),name=docs_name,index_path=index_path)\n",
    "docs.memory = True\n",
    "files = Path(folder_input).glob('*.*')\n",
    "doc_number = 0\n",
    "\n",
    "for file in files:\n",
    "     doc_number+=1\n",
    "\n",
    "if os.path.exists(docs_pickle):\n",
    "    with open(docs_pickle, 'rb') as f:\n",
    "        docs = pickle.load(f)\n",
    "else:\n",
    "    \n",
    "    for file in files:\n",
    "            print(file.name)\n",
    "            docs.add(file)\n",
    "            with open(docs_pickle, \"wb\") as f:\n",
    "                pickle.dump(docs, f)   \n",
    "k = 5+doc_number"
   ]
  },
  {
   "cell_type": "code",
   "execution_count": 5,
   "metadata": {},
   "outputs": [
    {
     "name": "stderr",
     "output_type": "stream",
     "text": [
      "Retrying langchain.chat_models.openai.acompletion_with_retry.<locals>._completion_with_retry in 1.0 seconds as it raised APIError: Bad gateway. {\"error\":{\"code\":502,\"message\":\"Bad gateway.\",\"param\":null,\"type\":\"cf_bad_gateway\"}} 502 {'error': {'code': 502, 'message': 'Bad gateway.', 'param': None, 'type': 'cf_bad_gateway'}} <CIMultiDictProxy('Date': 'Wed, 05 Jul 2023 13:15:22 GMT', 'Content-Type': 'application/json', 'Content-Length': '84', 'Connection': 'keep-alive', 'X-Frame-Options': 'SAMEORIGIN', 'Referrer-Policy': 'same-origin', 'Cache-Control': 'private, max-age=0, no-store, no-cache, must-revalidate, post-check=0, pre-check=0', 'Expires': 'Thu, 01 Jan 1970 00:00:01 GMT', 'Server': 'cloudflare', 'CF-RAY': '7e1fd8bc0b740e9c-AMS', 'alt-svc': 'h3=\":443\"; ma=86400')>.\n"
     ]
    },
    {
     "data": {
      "text/markdown": [
       "- Graphene oxide (GO) did not enter A549 cells and did not show obvious cytotoxicity (Chang2011).\n",
       "- GO caused a dose-dependent oxidative stress in A549 cells (Chang2011).\n",
       "- At high concentrations, GO induced a slight loss of cell viability (Chang2011).\n",
       "- GO exhibited cytotoxicity on human mesenchymal stem cells (An2023).\n",
       "- GO induced DNA fragmentation in cells exposed to it (An2023).\n",
       "- GO caused severe lung inflammation, alveolar exudates, hyaline membrane formation, protein leakage into the alveolar space, BAL fluid pleiocytosis, and elevated BAL levels of pro-inflammatory cytokines (Duch2011).\n",
       "- GO induced negative effects on plant growth, including an increase in reactive oxygen species (ROS), cell death, and necrotic lesions (Seabra2013).\n",
       "- GO induced significant oxidative stress in the gut of Daphnia magna (Lv2018).\n",
       "- GO did not have any antimicrobial effects on bacteria and promoted bacterial growth (Ruiz2011).\n",
       "- GO exhibited genotoxic effects on stem cells, including DNA fragmentation and chromosomal aberrations (Akhavan2012a).\n",
       "- GO caused immobility/mortality in C. dubia and Drosophila melanogaster (An2023).\n",
       "- GO induced cell-cycle alterations, apoptosis, and oxidative stress (Matesanz2013).\n",
       "- GO exhibited oxidative potential in biological systems and induced apoptosis (Zhang3900).\n",
       "- GO caused mitochondria dysfunction and oxidative stress (An2023).\n",
       "- The specific effects observed upon exposure to graphene oxide are not mentioned in the provided text (Yang2013)."
      ],
      "text/plain": [
       "<IPython.core.display.Markdown object>"
      ]
     },
     "metadata": {},
     "output_type": "display_data"
    },
    {
     "name": "stdout",
     "output_type": "stream",
     "text": [
      "context='- The study examined the effects of graphene oxide (GO) on A549 cells.\\n- GO did not enter the A549 cells and did not show obvious cytotoxicity.\\n- However, GO caused a dose-dependent oxidative stress in the cells.\\n- At high concentrations, GO induced a slight loss of cell viability.\\n- The effects of GO were dose and size related.\\n- These findings should be considered in the development of bio-applications of GO.\\n- Overall, GO was considered a pretty safe material at cellular level. \\n\\nScore: 10' text=Text(text='<full-text-retrieval-response xmlns=\"http://www.elsevier.com/xml/svapi/article/dtd\" xmlns:bk=\"http://www.elsevier.com/xml/bk/dtd\" xmlns:cals=\"http://www.elsevier.com/xml/common/cals/dtd\" xmlns:ce=\"http://www.elsevier.com/xml/common/dtd\" xmlns:ja=\"http://www.elsevier.com/xml/ja/dtd\" xmlns:mml=\"http://www.w3.org/1998/Math/MathML\" xmlns:sa=\"http://www.elsevier.com/xml/common/struct-aff/dtd\" xmlns:sb=\"http://www.elsevier.com/xml/common/struct-bib/dtd\" xmlns:tb=\"http://www.elsevier.com/xml/common/table/dtd\" xmlns:xlink=\"http://www.w3.org/1999/xlink\" xmlns:xocs=\"http://www.elsevier.com/xml/xocs/dtd\" xmlns:dc=\"http://purl.org/dc/elements/1.1/\" xmlns:dcterms=\"http://purl.org/dc/terms/\" xmlns:prism=\"http://prismstandard.org/namespaces/basic/2.0/\" xmlns:xsi=\"http://www.w3.org/2001/XMLSchema-instance\"><coredata><prism:url>https://api.elsevier.com/content/article/pii/S0378427410017765</prism:url><dc:identifier>doi:10.1016/j.toxlet.2010.11.016</dc:identifier><eid>1-s2.0-S0378427410017765</eid><prism:doi>10.1016/j.toxlet.2010.11.016</prism:doi><pii>S0378-4274(10)01776-5</pii><dc:title>In vitro toxicity evaluation of graphene oxide on A549 cells </dc:title><prism:publicationName>Toxicology Letters</prism:publicationName><prism:aggregationType>Journal</prism:aggregationType><pubType>fla</pubType><prism:issn>03784274</prism:issn><prism:volume>200</prism:volume><prism:issueIdentifier>3</prism:issueIdentifier><prism:startingPage>201</prism:startingPage><prism:endingPage>210</prism:endingPage><prism:pageRange>201-210</prism:pageRange><prism:number>3</prism:number><dc:format>text/xml</dc:format><prism:coverDate>2011-02-05</prism:coverDate><prism:coverDisplayDate>5 February 2011</prism:coverDisplayDate><prism:copyright>Copyright © 2010 Elsevier Ireland Ltd. All rights reserved.</prism:copyright><prism:publisher>Elsevier Ireland Ltd.</prism:publisher><dc:creator>Chang, Yanli</dc:creator><dc:creator>Yang, Sheng-Tao</dc:creator><dc:creator>Liu, Jia-Hui</dc:creator><dc:creator>Dong, Erya</dc:creator><dc:creator>Wang, Yanwen</dc:creator><dc:creator>Cao, Aoneng</dc:creator><dc:creator>Liu, Yuanfang</dc:creator><dc:creator>Wang, Haifang</dc:creator><dc:description>\\n                  Graphene and its derivatives have attracted great research interest for their potential applications in electronics, energy, materials and biomedical areas. However, little information of their toxicity and biocompatibility is available. Herein, we performed a comprehensive study on the toxicity of graphene oxide (GO) by examining the influences of GO on the morphology, viability, mortality and membrane integrity of A549 cells. The results suggest that GO does not enter A549 cell and has no obvious cytotoxicity. But GO can cause a dose-dependent oxidative stress in cell and induce a slight loss of cell viability at high concentration. These effects are dose and size related, and should be considered in the development of bio-applications of GO. Overall, GO is a pretty safe material at cellular le', name='Chang2011 lines 0-1', doc=Doc(docname='Chang2011', citation='Chang, Yanli, et al. \"In vitro toxicity evaluation of graphene oxide on A549 cells.\" Toxicology Letters, vol. 200, no. 3, 2011, pp. 201-210. doi:10.1016/j.toxlet.2010.11.016.', dockey='1fb19bb2ca9f3fcc3986520cb62d62ff'), embeddings=None) score=10\n",
      "context='- Electron microscopy techniques were used to characterize graphene flakes, including transmission electron microscopy (TEM), field emission scanning electron microscopy (FE-SEM), and scanning electron microscopy (SEM).\\n- Figure 11 shows some techniques for microscopic characterization of graphene oxide (GO).\\n- SEM images in Figure 12 show severely wrinkled graphene layers in samples with low and high oxygen content, indicating deformation caused by leftover oxygen.\\n- Thermo-gravimetric analysis (TGA) was used to determine the stability of Go-M-Cu at different temperatures, revealing weight losses attributed to the elimination of adsorbed water, decomposition of functional groups on GO, and loss of covalently and chemically immobilized organic ligands and copper complexes on the basal plane of GO.\\n\\nScore: 10' text=Text(text='observe graphene on substrates directly.\\nElectron microscopy is used to identify qualitative and quantitative\\ndetails of graphene flakes. The degree of exfoliation, number of layers,\\nlateral size, and atomic-level flaws were characterized by transmission\\nelectron microscopy (TEM), field emission scanning electron microscopy\\n(FE-SEM), and scanning electron microscopy (SEM).<sup><xref ref-type=\"bibr\" rid=\"ref67\">67</xref></sup><xref rid=\"fig11\" ref-type=\"fig\">Figure <xref rid=\"fig11\" ref-type=\"fig\">11</xref></xref> represents some techniques for microscopic characterization of GO.</p><fig id=\"fig11\" position=\"float\"><label>Figure 11</label><caption><p>Some\\ntechniques for microscopic characterization of GO. Reproduced\\nwith permission from refs (<xref ref-type=\"bibr\" rid=\"ref66\">66</xref>, <xref ref-type=\"bibr\" rid=\"ref70\">70</xref>, and <xref ref-type=\"bibr\" rid=\"ref78\">78</xref>). Copyright@2017, Scientific Research,\\nGraphene. Copyright@2020, Elsevier Ltd., Nanomedicine: Nanotechnology,\\nBiology and Medicine. Copyright@2021, Multidisciplinary Digital Publishing\\nInstitute, Nanomaterials.</p></caption><graphic xmlns:xlink=\"http://www.w3.org/1999/xlink\" xlink:href=\"ao2c03171_0011\" id=\"gr11\" position=\"float\"/></fig></sec><sec id=\"sec3.9\"><label>3.9</label><title>Scanning Electron Micropscopic (SEM) Analysis</title><p><xref rid=\"fig12\" ref-type=\"fig\">Figure <xref rid=\"fig12\" ref-type=\"fig\">12</xref></xref> contains\\nSEM images of the low and high oxygen concentration samples. In both\\ncases, severely wrinkled graphene layers can be seen, indicating that\\nthe leftover oxygen has caused a deformation in the graphene layers.<sup><xref ref-type=\"bibr\" rid=\"ref68\">68</xref></sup></p><fig id=\"fig12\" position=\"float\"><label>Figure 12</label><caption><p>SEM images of (a) GO with low oxygen content and (b) GO\\nwith high\\noxygen content. Reproduced with permission from ref (<xref ref-type=\"bibr\" rid=\"ref68\">68</xref>). Copyright@2022, Elsevier\\nLtd., Journal of King Saud University &#x02013; Science (open access).</p></caption><graphic xmlns:xlink=\"http://www.w3.org/1999/xlink\" xlink:href=\"ao2c03171_0012\" id=\"gr12\" position=\"float\"/></fig></sec><sec id=\"sec3.10\"><label>3.10</label><title>Thermo-gravimetric Analysis\\n(TGA)</title><p>TGA analysis was used to determine the stability of\\nGo-M-Cu at temperatures\\nranging from 0 to 550 &#x000b0;C. From roughly 50 to 550 &#x000b0;C, the\\nTGA graph exhibited three primary weight losses. The first weight\\nloss, which begins around 50 &#x000b0;C and continues to 150 &#x000b0;C,\\nis credited to elimination of adsorbed water, while the subsequent\\nweight loss that begins at 200 &#x000b0;C and extends to 300 &#x000b0;C\\nis for the decomposition of functional groups embedded on GO as well\\nas the decomposition of organic ligands that they adsorbed physically\\non the surface of GO. The final and significant loss of covalently\\nand chemically immobilized organic ligands and copper complexes on\\nthe basal plane of GO is attributed to the temperatur', name='An2023 lines 227-254', doc=Doc(docname='An2023', citation='\"An Update on Graphene Oxide: Applications and Toxicity.\" ACS Omega, vol. 8, no. 26, 2023, pp. 18532-18543. doi:10.1021/acsomega.2c03171.', dockey='249846627818fc0598be66e26fb64467'), embeddings=None) score=10\n",
      "context='- Optical absorbance measurements showed decreased absorbance in the visible for graphene oxide (GO) compared to Pluronic-dispersed graphene.\\n- Raman spectroscopy showed clear G, D, and 2D bands in locations consistent with published spectra for Pluronic-dispersed graphene and GO.\\n- Atomic force microscopy imaging showed that dispersed graphene had a thickness ranging from 1.2 to 5.0 nm with areas up to 40,000 nm2, while GO had thicknesses ranging from 0.5 to 2.0 nm and areas up to 200,000 nm2.\\n- Gross examination of lung sections showed a more homogeneous distribution pattern in mice treated with Pluronic-dispersed graphene compared to aggregated graphene.\\n- Mice treated with GO exhibited severe lung inflammation, alveolar exudates, hyaline membrane formation, protein leakage into the alveolar space, BAL fluid pleiocytosis, and elevated BAL levels of pro-inflammatory cytokines.\\n\\nScore: 10' text=Text(text='bition with oligomycin.\\nResults and Discussion. The graphene and GO materials\\nwere characterized via optical absorbance spectroscopy, Raman\\nspectroscopy and atomic force microscopy (AFM). Opticalabsorbance measurements demonstrated significantly decreased\\nabsorbance in the visible for GO (15 /C2less at 660 nm) as\\ncompared to Pluronic-dispersed graphene (Figure 1a), which isconsistent with previously published results.\\n24Raman spectra\\ngathered at an excitation wavelength of 514 nm (Figure 1b)\\nshowed clear G, D, and 2D bands in locations consistent with\\npublished spectra for Pluronic-dispersed graphene25and GO.26\\nTo determine the thickness and size of the flakes, the graphene\\nand GO dispersions were deposited onto SiO 2substrates and\\nimaged by atomic force microscopy (Figure 1c /C0f). The dis-\\npersed graphene was found to have a thickness ranging from 1.2\\nto 5.0 nm with areas up to 40 000 nm2. In contrast, GO had\\nthicknesses ranging from 0.5 to 2.0 nm and areas up to200 000 nm2. However, in both cases more than 90% of the\\nflakes had areas less than 25 000 nm2.\\nGross examination of para ﬃn embedded lung blocks from\\nmice treated 24 h earlier showed a more homogeneous distribu-tion pattern in mice treated with the Pluronic dispersed graphene\\ncompared with the aggregated graphene. In lung sections from\\nanimals treated with Pluronic-dispersed graphene, we observedlung macrophages with a homogeneous black cytoplasm\\nthroughout the lung, which were not observed in vehicle treated\\nanimals (Figure 2a /C0e). In mice treated with graphene aggregates\\nsuspended in saline, we observed the aggregates in medium sized\\nairways surrounded by macrophages with a homogeneous black\\ncytoplasm (Figure 2a /C0e). To quantify the di ﬀerences in the\\ndistribution of the dispersed and aggregated graphene in thelung, we counted the number of randomly chosen 600 /C2ﬁelds\\ncontaining macrophages with black cytoplasm. In mice treated\\nwith nanoscale dispersed graphene, 91 (4% of the high powered\\n(600/C2)ﬁelds contained macrophages with a black cytoplasm\\ncompared with 36 (1% in the mice treated with graphene\\naggregates. These results suggest that nanoscale dispersion ofgraphene improves its distribution in the lung after airway\\ninstillation.\\nIn mice treated 24 h earlier with nanoscale dispersed or\\naggregated graphene, we found minimal histologic evidence oflung in ﬂammation (Figure 2b /C0f). In marked contrast, we ob-\\nserved severe lung in ﬂammation with alveolar exudates and hyaline\\nmembrane formation in mice treated with GO (Figure 2a /C0e). The\\nlung injury induced by GO treated mice was evident in low power\\nelectron micrographs (Figure 2f) and was accompanied by a\\nleakage of protein into the alveolar space, BAL ﬂuid pleiocytosis,\\nand elevated BAL levels of pro-in ﬂammatory cytokines\\n(Figure 2g /C0k). We have reported that lung in ﬂammation follow-\\ning particle exposure is su ﬃcient to induce a prothrombotic state in\\nmice, which may contribute to the increased risk of heart attack and', name='Duch2011 pages 2-2', doc=Doc(docname='Duch2011', citation='Duch, Matthew C., et al. \"Minimizing Oxidation and Stable Nanoscale Dispersion Improves the Biocompatibility of Graphene in the Lung.\" Nano Letters, vol. 11, no. 12, 2011, pp. 5201-5207. doi:10.1021/nl202515a.', dockey='3352b52b8413e000fbcd9455c69e5634'), embeddings=None) score=10\n",
      "context='- The impact of corona-coated graphene oxide (GO) on cellular toxicity, ROS generation, and lipid peroxidation was determined.\\n- Concentrations of GO sheets affected cell growth and activation of cell death.\\n- A concentration of 100 µg/mL of GO caused viability loss in cells.\\n- rGO nanoribbons (rGONRs) and rGO nanosheets (rGOSs) exhibited cytotoxicity on human mesenchymal stem cells.\\n- DNA fragmentation was observed in cells exposed to rGONRs at a concentration of 1.0 µg/mL.\\n- The therapeutic benefits of spinal-graphene nanoparticles coated with corona against cancer were assessed, showing a correlation between protein corona absorption and heating brought on by laser irradiation.\\n\\nScore: 10/10' text=Text(text='c>T</italic> = 298\\nK, &#x003bb;<sub>ex</sub> = 280 nm. (A) pH = 2.0, (B) pH = 7.4, and\\n(C) pH = 11.0. Reproduced with permission from ref (<xref ref-type=\"bibr\" rid=\"ref317\">317</xref>). Copyright@2016, Elsevier,\\nLtd., Materials Chemistry and Physics.</p></caption><graphic xmlns:xlink=\"http://www.w3.org/1999/xlink\" xlink:href=\"ao2c03171_0092\" id=\"gr92\" position=\"float\"/></fig></sec><sec id=\"sec17.6\"><label>17.6</label><title>Corona-Coated Graphene Oxide</title><p>The\\nauthor employed GO to observe the biological reaction to corona derived\\nfrom various diseases. The author of this study determined the impact\\nof corona-coated GO. With GO sheets, human plasma that had been exposed\\nto various diseases was cultured. The results revealed that varied\\ncorona decorations on GO sheets affected the cellular toxicity, ROS\\ngeneration, and lipid peroxidation in diverse ways.<sup><xref ref-type=\"bibr\" rid=\"ref318\">318</xref></sup></p></sec><sec id=\"sec17.7\"><label>17.7</label><title>Human Epithelial Cells</title><p>The prevention\\nof cell growth and activation of cell death were examined at a dosage\\nof 100 &#x003bc;g/mL. The results also showed that a concentration &#x02264;50\\n&#x003bc;g/mL caused no significant toxicity to the cells. After 24\\nh post exposure at a concentration of 100 &#x003bc;g/mL, viability loss\\nwas observed (<xref rid=\"fig93\" ref-type=\"fig\">Figure <xref rid=\"fig93\" ref-type=\"fig\">93</xref></xref>).<sup><xref ref-type=\"bibr\" rid=\"ref319\">319</xref></sup></p><fig id=\"fig93\" position=\"float\"><label>Figure 93</label><caption><p>Viability of cells. Reproduced with permission\\nfrom ref (<xref ref-type=\"bibr\" rid=\"ref319\">319</xref>). Copyright@2014,\\nElsevier\\nLtd., Applied Surface Science (redrew the image from the information\\navailable).</p></caption><graphic xmlns:xlink=\"http://www.w3.org/1999/xlink\" xlink:href=\"ao2c03171_0093\" id=\"gr93\" position=\"float\"/></fig></sec><sec id=\"sec17.8\"><label>17.8</label><title>Human\\nMesenchymal Stem Cells</title><p>The\\ntoxicity of rGO nanoribbons (rGONRs) and rGO nanosheets (rGOSs) on\\nhuman mesenchymal stem cells was investigated in this work. The author\\nclaimed that 10 g/mL of rGONRs produced cytotoxicity, including cell\\nviability, after exposure for 1 h. The results demonstrated that 96\\nh after exposure the same cytotoxity was still present at a concentration\\nof 100 g/mL. The findings also demonstrated that rGONRs, even at a\\nconcentration of 1.0 g/mL, produced DNA fragmentation following exposure\\nfor 1 h.<sup><xref ref-type=\"bibr\" rid=\"ref320\">320</xref></sup></p></sec><sec id=\"sec17.9\"><label>17.9</label><title>Corona-Coated\\nSpinal-Graphene Nanomaterial</title><p>In this study, the author assessed\\nthe therapeutic benefits of\\nspinal-graphene nanoparticles coated with corona against cancer. The\\noutcome demonstrated a correlation between the amount of protein corona\\nabsorbed on spinal graphene and local and global heating brought on\\nby laser irradiation. The study&#x02019;s findings indicated that the\\neffectiveness ', name='An2023 lines 2112-2144', doc=Doc(docname='An2023', citation='\"An Update on Graphene Oxide: Applications and Toxicity.\" ACS Omega, vol. 8, no. 26, 2023, pp. 18532-18543. doi:10.1021/acsomega.2c03171.', dockey='249846627818fc0598be66e26fb64467'), embeddings=None) score=10\n",
      "context='- PEGylated GO derivatives after oral administration were not absorbed by organs and were rapidly excreted.\\n- PEGylated GO derivatives, but not as-made GO, could be engulfed by phagocytes in the RES system after i.p. administration.\\n- No significant toxicity was noticed in serum biochemistry, complete blood panel test, and histological analysis.\\n- Formation of granulomas, which could be induced by i.p. injected long MWNTs, was not observed in mice injected with high dose of GO or PEGylated GO.\\n- In vivo behaviors and toxicology of nanomaterials, including graphene, are closely associated with their surface coatings, size, and administration routes.\\n\\nRelevance score: 10' text=Text(text='avior and long-term toxicity of GO and PEGylated GO derivatives after oral and i.p. injection. Our results showed that PEGylated GO derivatives after oral administration could not be adsorbed by organs and were rapidly excreted. In contrast, PEGylated GO derivatives, but not as-made GO, could be engulfed by phagocytes in the RES system after i.p. administration, by a size and surface coating related manner. Despite the long-term retention of i.p. injected GO and PEGylated GO in the mouse body, no significant toxicity was noticed in our systematic serum biochemistry, complete blood panel test, and histological analysis. The formation of granulomas, which could be induced by i.p. injected long MWNTs, was not observed in mice injected with high dose of GO or PEGylated GO. Our results suggest that the in\\xa0vivo behaviors and toxicology of nanomaterials, including graphene, are closely associated with their surface coatings, size, and importantly, the administration routes.</ce:para>\\n               </ce:section>\\n            </ce:sections>\\n            <ce:acknowledgment>\\n               <ce:section-title>Acknowledgments</ce:section-title>\\n               <ce:para id=\"p0110\" view=\"all\">This work was supported by the <ce:grant-sponsor id=\"gs1\" xlink:type=\"simple\" xlink:role=\"http://www.elsevier.com/xml/linking-roles/grant-sponsor\">National Basic Research Program of China</ce:grant-sponsor> (973 Program, <ce:grant-number refid=\"gs1\">2012CB932601</ce:grant-number> and <ce:grant-number refid=\"gs1\">2011CB911002</ce:grant-number>), <ce:grant-sponsor id=\"gs2\" xlink:type=\"simple\" xlink:role=\"http://www.elsevier.com/xml/linking-roles/grant-sponsor\">National Natural Science Foundation of China</ce:grant-sponsor> (NSFC, <ce:grant-number refid=\"gs2\">51222203</ce:grant-number>, <ce:grant-number refid=\"gs2\">51002100</ce:grant-number>, <ce:grant-number refid=\"gs2\">51132006</ce:grant-number>), and a project funded by the <ce:grant-sponsor id=\"gs3\" xlink:type=\"simple\" xlink:role=\"http://www.elsevier.com/xml/linking-roles/grant-sponsor\">Priority Academic Program Development of Jiangsu Higher Education Institutions (PAPD)</ce:grant-sponsor>.</ce:para>\\n            </ce:acknowledgment>\\n            <ce:appendices view=\"all\">\\n               <ce:section id=\"appsec1\" view=\"extended\">\\n                  <ce:label>Appendix A</ce:label>\\n                  <ce:section-title>Supplementary data</ce:section-title>\\n                  <ce:para id=\"p0115\" view=\"all\">\\n                     <ce:display>\\n                        <ce:e-component id=\"ec1\">\\n                           <ce:link locator=\"mmc1\"/>\\n                        </ce:e-component>\\n                     </ce:display>\\n                  </ce:para>\\n               </ce:section>\\n               <ce:section id=\"appsec2\" view=\"compact-standard\">\\n                  <ce:label>Appendix A</ce:label>\\n                  <ce:section-title>Supplementary data</ce:section-title>\\n                  <ce:para id=\"p0120\" view=\"all\">Supplementary data related ', name='Yang2013 lines 992-1014', doc=Doc(docname='Yang2013', citation='Yang, Kai, et al. \"In vivo biodistribution and toxicology of functionalized nano-graphene oxide in mice after oral and intraperitoneal administration.\" Biomaterials, vol. 34, no. 11, 2013, pp. 2787-2795. doi:10.1016/j.biomaterials.2013.01.001.', dockey='2185ab70012694b75121e60b0592750d'), embeddings=None) score=10\n",
      "context='- Graphene induced negative effects such as an increase in reactive oxygen species (ROS), cell death, and necrotic lesions on cabbage, tomato, and spinach.\\n- Plant cell death induced by graphene treatment may occur either by apoptosis or necrosis.\\n- The potential toxic effects of graphene on plants depend on the graphene dose, exposure time, and plant species.\\n- Few-layer graphene carbon structures did not significantly affect plant growth rates, most likely because they were unable to penetrate plant tissues.\\n- Graphene oxide (GO) showed toxic effects on microbial communities in a dose-dependent manner, especially at concentrations greater than 50 mg/L.\\n- The generation of reactive oxygen species (ROS) could be one of the responsible mechanisms for the toxic effects of GO.\\n- Oxidative stress and cell membrane damage are proposed mechanisms of graphene and GO toxicity.\\n- Bacterial cells interacting with GO exhibited toxicity, possibly due to the loss of membrane integrity and direct contact with sharp nanosheets.\\n\\nRelevance Score: 10' text=Text(text='egum et al.\\n86Graphene induced negative e ﬀects,\\nsuch as a concentration-dependent increase in ROS, cell death,and visible symptoms of necrotic lesions on cabbage, tomato, andspinach. On the basis of root morphology studies, the authorssuggested that plant cell death induced by graphene treatmentmight occur either by apoptosis or by necrosis. These factsindicate that the potential toxic e ﬀect of graphenes on plants may\\nlargely depend on the graphene dose, exposure time, and theplant species. Therefore, this topic deserves further attention.\\n86\\nTo assess physiological responses, such as biomass accumu-\\nlation, few-layer graphene materials were introduced intoMurashige and Skoog (MS) media (50 μg/mL) along with\\ntomato seeds with a sterilized surface, and the germination andgrowth were followed.\\n87The authors observed that few-layer\\ngraphene carbon structures did not signi ﬁcantly a ﬀect plant\\ngrowth rates, most likely because of their inability to penetrateplant tissues.\\nShort-term and high-load e ﬀects of GO on microbial functions\\nrelated to biological wastewater treatment processes showedtoxic e ﬀects on microbial communities in a dose-dependent\\nmanner, especially in concentrations greater than 50 mg/L.Many biological activities were signi ﬁcantly impacted by the\\npresence of GO in an activated sludge. The authors suggestedthat the generation of reactive oxygen species (ROS) could beone of the responsible mechanisms for the toxic e ﬀect of GO.\\n88\\nIn this sense, graphene is a promising material for environ-\\nmental applications, and its phytotoxicity should be furtherinvestigated.6\\n6. TOXICITY MECHANISMS\\nAlthough the mechanisms responsible for graphene and GOtoxicity have been discussed previously,51no conclusions have\\nbeen drawn that are su ﬃcient to establish risk assessments or\\nregulations.89Graphene is a unique nanomaterial compared withspherical nanoparticles and one-dimensional nanotubes due to\\nits two-dimensional structure.\\nMany reports have proposed that oxidative stress is one\\nof the mechanisms involved in the toxic e ﬀects of carbon nano-\\nmaterials.2,24,37,90The oxidative stress in target cells is caused by\\nthe generation of reactive oxygen species (ROS).2Antioxidant\\nenzymes, such as superoxide dismutase or glutathione per-oxidase, are able to reduce and eliminate ROS. If homeostasis isnot achieved, cellular macromolecules, such as proteins, DNA,and lipids, can be damaged.\\n2\\nCell membrane damage through physical interaction with\\ngraphenes possessing sharp edges is another possible mechanismof toxicity.68,73Furthermore, due to its hydrophobic surface,\\ngraphene can signi ﬁcantly interact with cell membrane lipids,\\ncausing toxicity.2\\nBacterial cells interacting with GO and rGO exhibited toxicity,\\nwhich may be due to the loss of membrane integrity, and theproposed toxicity mechanism includes initial cell deposition ongraphene-based materials and membrane stress caused by directcontact with sharp nanosheets.\\n17Gurunathan et al.90previously\\ndem', name='Seabra2013 pages 6-6', doc=Doc(docname='Seabra2013', citation='Seabra, Amedea B., et al. \"Nanotoxicity of Graphene and Graphene Oxide.\" ACS Nano, vol. 7, no. 10, 2013, pp. 8191-8207.', dockey='51e13c001756189cac875d9e59a3ca22'), embeddings=None) score=10\n",
      "context='- Reactive oxygen species were concentrated in the guts of Daphnia magna upon exposure to graphene oxide (GO)\\n- GO accumulated in the guts of Daphnia magna, with a high bioaccumulation level\\n- GO induced significant oxidative stress in the gut of Daphnia magna\\n- Daphnia magna was able to relieve the acute toxicity of GO by depurating it within 24 hours\\n- Depuration of GO from Daphnia magna was not difficult\\n- GO did not cause long-term accumulation in Daphnia magna\\n- GO did not cause long-term toxicity in Daphnia magna\\n\\nRelevance score: 10' text=Text(text='e and high-dose exposure groups. The observations of in\\xa0vivo fluorescence labeled with 2′, 7′-dichlorofluorescin further demonstrated that reactive oxygen species were concentrated in daphnia guts, which corresponded with the high bioaccumulation level (5\\xa0mg/L, 24\\xa0h body burden: 107.9\\xa0g/kg) of GO in daphnia guts. However, depuration of GO from daphnia was not difficult. Daphnia almost released all GO within 24\\xa0h after it was transferred to clean water. These results hence suggest that GO could accumulate and induce significant oxidative stress in the gut of D.\\xa0magna, while D.\\xa0daphnia can also relieve the acute toxicity by depurating GO.\\n               </dc:description><openaccess>0</openaccess><openaccessArticle>false</openaccessArticle><openaccessType/><openArchiveArticle>false</openArchiveArticle><openaccessSponsorName/><openaccessSponsorType/><openaccessUserLicense/><dcterms:subject>Graphene oxide</dcterms:subject><dcterms:subject>\\n                     Daphnia magna\\n                  </dcterms:subject><dcterms:subject>Acute toxicity</dcterms:subject><dcterms:subject>Oxidative stress</dcterms:subject><dcterms:subject>Bioaccumulation</dcterms:subject><link href=\"https://api.elsevier.com/content/article/pii/S026974911733470X\" rel=\"self\"/><link href=\"https://www.sciencedirect.com/science/article/pii/S026974911733470X\" rel=\"scidir\"/></coredata><objects><object ref=\"fx1\" category=\"standard\" type=\"IMAGE-DOWNSAMPLED\" multimediatype=\"JPEG image file\" mimetype=\"image/jpeg\" width=\"500\" height=\"198\" size=\"38020\">https://api.elsevier.com/content/object/eid/1-s2.0-S026974911733470X-fx1.jpg?httpAccept=%2A%2F%2A</object><object ref=\"gr1\" category=\"standard\" type=\"IMAGE-DOWNSAMPLED\" multimediatype=\"JPEG image file\" mimetype=\"image/jpeg\" width=\"667\" height=\"266\" size=\"27928\">https://api.elsevier.com/content/object/eid/1-s2.0-S026974911733470X-gr1.jpg?httpAccept=%2A%2F%2A</object><object ref=\"gr2\" category=\"standard\" type=\"IMAGE-DOWNSAMPLED\" multimediatype=\"JPEG image file\" mimetype=\"image/jpeg\" width=\"666\" height=\"254\" size=\"33975\">https://api.elsevier.com/content/object/eid/1-s2.0-S026974911733470X-gr2.jpg?httpAccept=%2A%2F%2A</object><object ref=\"gr3\" category=\"standard\" type=\"IMAGE-DOWNSAMPLED\" multimediatype=\"JPEG image file\" mimetype=\"image/jpeg\" width=\"534\" height=\"348\" size=\"28049\">https://api.elsevier.com/content/object/eid/1-s2.0-S026974911733470X-gr3.jpg?httpAccept=%2A%2F%2A</object><object ref=\"gr4\" category=\"standard\" type=\"IMAGE-DOWNSAMPLED\" multimediatype=\"JPEG image file\" mimetype=\"image/jpeg\" width=\"356\" height=\"275\" size=\"17512\">https://api.elsevier.com/content/object/eid/1-s2.0-S026974911733470X-gr4.jpg?httpAccept=%2A%2F%2A</object><object ref=\"fx1\" category=\"thumbnail\" type=\"IMAGE-THUMBNAIL\" multimediatype=\"GIF image file\" mimetype=\"image/gif\" width=\"219\" height=\"87\" size=\"13519\">https://api.elsevier.com/content/object/eid/1-s2.0-S026974911733470X-fx1.sml?httpAccept=%2A%2F%2A</object><object ref=\"gr1\" category=\"thumbnail\" type=\"IMAGE-THUMBNAI', name='Lv2018 lines 1-4', doc=Doc(docname='Lv2018', citation='Lv, Xiaohui, et al. \"A mechanism study on toxicity of graphene oxide to Daphnia magna: Direct link between bioaccumulation and oxidative stress.\" Environmental Pollution, vol. 234, 2018, pp. 953-959. doi:10.1016/j.envpol.2017.12.034', dockey='190b4b1751165e53bcc8e7192fb1872e'), embeddings=None) score=10\n",
      "context='- The study investigated the effect of graphene oxide (GO) films on bacteria growth.\\n- GO films, Ag-GO films, and filter pieces were inoculated with E. coli bacteria.\\n- Growth inhibition zones were not detected in the plates containing GO film or filter paper.\\n- Ag-decorated GO showed large growth inhibition zones, indicating a toxic effect on bacteria.\\n- GO did not have any antimicrobial effects capable of producing a toxic effect.\\n- GO promoted bacterial growth by enhancing attachment, proliferation, and biofilm formation.\\n- GO paper supported bacteria growth more efficiently than a PVDF filter.\\n- GO did not have any adverse or toxic effects on bacteria.\\n- GO films enhanced mammalian cell attachment and proliferation. \\n\\nRelevance Score: 10/10' text=Text(text='ffect of solid GO filmson bacteria growth was studied by inoculating GOfilms, Ag-GO films, and filter pieces with E. coli bacteria.\\nGraphene oxide films were placed onto LB cultureplates that were previously inoculated with 1 /C210\\n6E. coli cells per plate. Then, 1 /C2106E. coli cells were\\ndirectly inoculated on top of the film pieces andallowed to dry. The plates were incubated for 18 h at37/C176C. After the incubation period, pictures were taken\\nand genomic DNA was extracted from each of the\\nfilters for further analysis (Figure 2f /C0h). The purpose of\\nthis type of inoculation was to observe growth over theGO film and also to determine if any growth inhibitionzone was formed around the GO film. Growth inhibi-tion zones around GO film have been reported in thepast.\\n11Inhibition areas would indicate that the material\\nhas some toxic effect on the bacteria.\\nResults showed that growth inhibition zones were\\nnot detected in the plate containing either GO ﬁlm or\\nﬁlter paper (Figure 2f,g). However, Ag-decorated GO\\nshowed large growth inhibition zones characterized bya clear area with no cell growth (Figure 2h). Theseresults clearly demonstrate that GO does not have anyantimicrobial e ﬀects capable of producing a toxic\\neﬀect in the area surrounding the GO ﬁlm. By decorat-\\ning our GO material with silver, we further demonstrate\\nthat we can replicate published results for Ag-GOmaterial.\\n11,13,17This showed that our GO material was\\nfunctional and capable of supporting common anti-microbial materials including silver.\\nQuantitative real-time PCR (qPCR) performed to\\ndetermine the growth level over the di ﬀerent ﬁlms\\nFigure 4. Graphene oxide and silver-coated graphene oxide characterization. (a) TEM image of neat GO, (b) TEM image of Ag-\\ndecorated GO, (c) XRD spectrum of Ag-decorated GO and ICDD 00-004-0783 card data for face-centered cubic Ag, and (d) sizedistribution studies performed using TEM for Ag-decorated GO.ARTICLE\\nRUIZ ET AL. VOL. 5 ’NO. 10 ’8100 –8107 ’2011\\nwww.acsnano.org8105\\nrevealed that GO paper supported bacteria growth\\nmore e ﬃciently than a PVDF ﬁlter (Figure 2b). The\\nresults showed that the surface of the GO ﬁlm con-\\ntained 9.5 /C2109cells while the ﬁlter paper had 7.5 /C2\\n109cells. The cell level over the Ag-GO paper was\\ndetermined to be 3.5 /C2104cells, which was lower than\\nthe initial inoculation level of 1 /C2106cells, indicating\\nthat bacteria cell death was achieved. These results donot indicate any adverse or toxic e ﬀect of GO toward\\nbacteria. Furthermore, GO seems to promote bacterial\\ngrowth by enhancing attachment, proliferation, and\\nbioﬁlm formation.\\nMammalian Cell Attachment and Proliferation onto GO Film.\\nA study was performed to test the role of GO film on\\nmammalian cell attachment and proliferation. Control\\nglass slides and glass slides coated with 10 μgo fG O\\n(Figure 5a) were placed onto a culture dish to whichculture media and 6 /C210\\n5mammalian colorectal\\nadenocarcinoma HT-29 cells were added. The cellswere allowed to attach ', name='Ruiz2011 pages 5-6', doc=Doc(docname='Ruiz2011', citation='Ruiz, Oscar N., et al. \"Graphene Oxide: A Nonspecific Enhancer of Cellular Growth.\" ACS Nano, vol. 5, no. 10, 2011, pp. 8100-8107.', dockey='00d1925a3cf6ed7fd8d15282cd77731f'), embeddings=None) score=10\n",
      "context='- Ng et al. (2011) studied semiconductor/reduced graphene oxide nanocomposites derived from photocatalytic reactions.\\n- Akhavan et al. (2012) investigated protein degradation and RNA efflux of viruses photocatalyzed by graphene-tungsten oxide composite under visible light irradiation.\\n- Zeng et al. (2011) constructed a glucose biosensor using palladium nanoparticle/chitosan-grafted graphene nanocomposites.\\n- Shvedova et al. (2003) assessed the cytotoxicity of carbon nanotube material using human keratinocyte cells.\\n- Manna et al. (2005) found that single-walled carbon nanotubes induce oxidative stress and activate nuclear transcription factor-kB in human keratinocytes.\\n- Lam et al. (2004) studied the pulmonary toxicity of single-wall carbon nanotubes in mice.\\n- Chen et al. (2006) interfaced carbon nanotubes with living cells.\\n- Kang et al. (2007) discovered that single-walled carbon nanotubes exhibit strong antimicrobial activity.\\n- Kang et al. (2008) found that the antibacterial effects of carbon nanotubes depend on their size.\\n- Akhavan et al. (2011) investigated the antibacterial purposes of silver nanoparticles within vertically aligned multi-wall carbon nanotubes with open tips.\\n\\nScore: 10/10' text=Text(text=', 11–18.\\n49 Y. H. Ng, A. Iwase, N. J. Bell, A. Kudo and R. Amal, Semiconductor/\\nreduced graphene oxide nanocomposites derived from photocatalyticreactions, Catal. Today , 2011, 164, 353–357.\\n13780 | J. Mater. Chem. , 2012, 22, 13773–13781 This journal is ªThe Royal Society of Chemistry 2012\\nPublished on 30 April 2012. Downloaded on 6/26/2023 4:05:40 PM. \\nView Article Online50 O. Akhavan, M. Choobtashani and E. Ghaderi, Protein degradation\\nand RNA efﬂux of viruses photocatalyzed by graphene-tungstenoxide composite under visible light irradiation, J. Phys. Chem. C ,\\n2012, 116, 9653–9659.\\n51 Q. Zeng, J. S. Cheng, X. F. Liu, H. T. Bai and J. H. Jiang, Palladium\\nnanoparticle/chitosan-grafted graphene nanocomposites forconstruction of a glucose biosensor, Biosens. Bioelectron. , 2011, 26,\\n3456–3463.\\n52 R. B. Robey and N. Hay, Mitochondrial hexokinases, novel\\nmediators of the antiapoptotic effects of growth factors and Akt,\\nOncogene , 2006, 25, 4683–4696.\\n53 A. A. Shvedova, V. Castranova, E. R. Kisin, D. Schwegler-Berry,\\nA. R. Murray, V. Z. Gandelsman, A. Maynard and P. Baron,Exposure to carbon nanotube material: assessment of nanotubecytotoxicity using human Keratinocyte cells, J. Toxicol. Environ.\\nHealth, Part A , 2003, 66, 1909–1926.\\n54 S. K. Manna, S. Sarkar, J. Barr, K. Wise, E. V. Barrera, O. Jejelowo,\\nA. C. Rice-Ficht and G. T. Ramesh, Single-walled carbon nanotubeinduces oxidative stress and activates nuclear transcription factor-\\nkB in human Keratinocytes, Nano Lett. , 2005, 5, 1676–1684.\\n55 C. W. Lam, J. T. James, R. McCluskey and R. L. Hunter, Pulmonary\\ntoxicity of single-wall carbon nanotubes in mice 7 and 90 days after\\nintractracheal instillation, Toxicol. Sci. , 2004, 77, 126–134.\\n56 X. Chen, U. C. Tam, J. L. Czlapinski, G. S. Lee, D. Rabuka, A. Zettl\\nand C. R. Bertozzi, Interfacing carbon nanotubes with living cells,J. Am. Chem. Soc. , 2006, 128, 6292–6293.\\n57 S. Kang, M. Pinault, L. Pfefferle and M. Elimelech, Single-walled\\ncarbon nanotubes exhibit strong antimicrobial activity, Langmuir ,\\n2007, 23, 8670–8673.\\n58 S. Kang, M. Herzberg, D. F. Rodrigues and M. Elimelech,\\nAntibacterial effects of carbon nanotubes: size does matter!,Langmuir , 2008, 24, 6409–6413.\\n59 O. Akhavan, M. Abdolahad, Y. Abdi and S. Mohajerzadeh, Silver\\nnanoparticles within vertically aligned multi-wall carbon nanotubeswith open tips for antibacterial purposes, J. Mater. Chem. , 2011,\\n21, 387–393.\\nThis journal is ªThe Royal Society of Chemistry 2012 J. Mater. Chem. , 2012, 22, 13773–13781 | 13781\\nPublished on 30 April 2012. Downloaded on 6/26/2023 4:05:40 PM. \\nView Article Online', name='Akhavan2012 pages 8-9', doc=Doc(docname='Akhavan2012', citation='Akhavan, Omid, et al. \"The use of a glucose-reduced graphene oxide suspension for photothermal cancer therapy.\" Journal of Materials Chemistry, vol. 22, no. 30, 2012, pp. 13773-13781. DOI: 10.1039/c2jm31396k.', dockey='1daa7247b33db634f39659fad5de9c87'), embeddings=None) score=10\n",
      "context='The text discusses the genotoxic effects of reduced graphene oxide nanoplatelets (rGONPs) on stem cells. The rGONPs induced DNA fragmentations and chromosomal aberrations in stem cells, even at low concentrations. The study highlights the importance of understanding the cytotoxic and genotoxic effects of graphene sheets and nanoplatelets for safe applications in tissue engineering and drug transport. \\n\\nScore: 10' text=Text(text='otoxicity of the rGO sheets, neither of them could completely describe the cell destructions induced by the rGONPs, especially at the concentrations \\n                        ≤\\n                      1.0 μg/mL. In fact, the rGONPs showed genotoxic effects on the stem cells through DNA fragmentations and chromosomal aberrations, even at low concentration of 0.1 μg/mL. Our results present essential knowledge for more efficient and innocuous applications of graphene sheets and particularly nanoplatelets in upcoming nanotechnology-based tissue engineering as, e.g., drug transporter and scaffolds.\\n               </dc:description><openaccess>0</openaccess><openaccessArticle>false</openaccessArticle><openaccessType/><openArchiveArticle>false</openArchiveArticle><openaccessSponsorName/><openaccessSponsorType/><openaccessUserLicense/><dcterms:subject>Reduced graphene Oxide</dcterms:subject><dcterms:subject>Nanoscale lateral dimension</dcterms:subject><dcterms:subject>Size effect</dcterms:subject><dcterms:subject>Cytotoxicity</dcterms:subject><dcterms:subject>Genotoxicity</dcterms:subject><dcterms:subject>Stem cells</dcterms:subject><link href=\"https://api.elsevier.com/content/article/pii/S0142961212008356\" rel=\"self\"/><link href=\"https://www.sciencedirect.com/science/article/pii/S0142961212008356\" rel=\"scidir\"/></coredata><objects><object ref=\"si1\" category=\"thumbnail\" type=\"ALTIMG\" multimediatype=\"GIF image file\" mimetype=\"image/gif\" width=\"12\" height=\"12\" size=\"121\">https://api.elsevier.com/content/object/eid/1-s2.0-S0142961212008356-si1.gif?httpAccept=%2A%2F%2A</object><object ref=\"gr6\" category=\"high\" type=\"IMAGE-HIGH-RES\" multimediatype=\"JPEG image file\" mimetype=\"image/jpeg\" width=\"2760\" height=\"2799\" size=\"415673\">https://api.elsevier.com/content/object/eid/1-s2.0-S0142961212008356-gr6_lrg.jpg?httpAccept=%2A%2F%2A</object><object ref=\"gr5\" category=\"high\" type=\"IMAGE-HIGH-RES\" multimediatype=\"JPEG image file\" mimetype=\"image/jpeg\" width=\"2755\" height=\"1298\" size=\"195733\">https://api.elsevier.com/content/object/eid/1-s2.0-S0142961212008356-gr5_lrg.jpg?httpAccept=%2A%2F%2A</object><object ref=\"gr4\" category=\"high\" type=\"IMAGE-HIGH-RES\" multimediatype=\"JPEG image file\" mimetype=\"image/jpeg\" width=\"2755\" height=\"1287\" size=\"187477\">https://api.elsevier.com/content/object/eid/1-s2.0-S0142961212008356-gr4_lrg.jpg?httpAccept=%2A%2F%2A</object><object ref=\"gr3\" category=\"high\" type=\"IMAGE-HIGH-RES\" multimediatype=\"JPEG image file\" mimetype=\"image/jpeg\" width=\"2759\" height=\"4060\" size=\"601032\">https://api.elsevier.com/content/object/eid/1-s2.0-S0142961212008356-gr3_lrg.jpg?httpAccept=%2A%2F%2A</object><object ref=\"gr2\" category=\"high\" type=\"IMAGE-HIGH-RES\" multimediatype=\"JPEG image file\" mimetype=\"image/jpeg\" width=\"3196\" height=\"1867\" size=\"560461\">https://api.elsevier.com/content/object/eid/1-s2.0-S0142961212008356-gr2_lrg.jpg?httpAccept=%2A%2F%2A</object><object ref=\"gr1\" category=\"high\" type=\"IMAGE-HIGH-RES\" multimediatype=\"JPEG image file\" mimetype=\"ima', name='Akhavan2012a lines 1-4', doc=Doc(docname='Akhavan2012a', citation='Akhavan, Omid, et al. \"Size-dependent genotoxicity of graphene nanoplatelets in human stem cells.\" Biomaterials, vol. 33, no. 32, 2012, pp. 8017-8025. doi:10.1016/j.biomaterials.2012.07.040.', dockey='6177b030ec43204219a282c26e6cde2d'), embeddings=None) score=10\n",
      "context='- The table provides information on the effects of graphene oxide (GO) nanoparticles on the organism C. dubia after 48 hours of exposure.\\n- The concentration of GO nanoparticles ranged from control (no GO) to 3.2 mg/L.\\n- Immobility/mortality was observed in all concentrations of GO, with higher concentrations resulting in higher immobility/mortality rates.\\n- The total number of organisms remained constant at 20 in all concentrations.\\n- The effect of GO nanoparticles increased with higher concentrations, with the highest concentration (3.2 mg/L) resulting in 100% effect on C. dubia.\\n- The text also mentions the effects of GO on Drosophila melanogaster, where different concentrations of GO caused nearly 100% mortality on day 16.\\n- GO exposure affected larval crawling, with a decrease at 50 µg/mL and fatal damage to neuromuscular coordination at 300 µg/mL.\\n\\nScore: 9/10' text=Text(text='f></sup></p><table-wrap id=\"tbl14a\" position=\"float\"><label>Table 16</label><caption><title>Number of Organisms\\nAffected and\\nPercentage of Effect on <italic>C. dubia</italic> after 48 h of Exposure\\nto GO Nanoparticles</title></caption><table frame=\"hsides\" rules=\"groups\" border=\"0\"><colgroup><col align=\"left\"/><col align=\"char\" char=\".\"/><col align=\"char\" char=\".\"/><col align=\"char\" char=\".\"/></colgroup><thead><tr><th style=\"border:none;\" align=\"center\">Concentration (mg/L)</th><th style=\"border:none;\" align=\"center\" char=\".\">Immobility/mortality</th><th style=\"border:none;\" align=\"center\" char=\".\">Total no. of organisms</th><th style=\"border:none;\" align=\"center\" char=\".\">Effect</th></tr></thead><tbody><tr><td style=\"border:none;\" align=\"left\">control</td><td style=\"border:none;\" align=\"char\" char=\".\">1</td><td style=\"border:none;\" align=\"char\" char=\".\">20</td><td style=\"border:none;\" align=\"char\" char=\".\">5</td></tr><tr><td style=\"border:none;\" align=\"left\">0.1</td><td style=\"border:none;\" align=\"char\" char=\".\">1</td><td style=\"border:none;\" align=\"char\" char=\".\">20</td><td style=\"border:none;\" align=\"char\" char=\".\">5</td></tr><tr><td style=\"border:none;\" align=\"left\">0.2</td><td style=\"border:none;\" align=\"char\" char=\".\">1</td><td style=\"border:none;\" align=\"char\" char=\".\">20</td><td style=\"border:none;\" align=\"char\" char=\".\">5</td></tr><tr><td style=\"border:none;\" align=\"left\">0.4</td><td style=\"border:none;\" align=\"char\" char=\".\">2</td><td style=\"border:none;\" align=\"char\" char=\".\">20</td><td style=\"border:none;\" align=\"char\" char=\".\">10</td></tr><tr><td style=\"border:none;\" align=\"left\">0.8</td><td style=\"border:none;\" align=\"char\" char=\".\">2</td><td style=\"border:none;\" align=\"char\" char=\".\">20</td><td style=\"border:none;\" align=\"char\" char=\".\">10</td></tr><tr><td style=\"border:none;\" align=\"left\">1.6</td><td style=\"border:none;\" align=\"char\" char=\".\">10</td><td style=\"border:none;\" align=\"char\" char=\".\">20</td><td style=\"border:none;\" align=\"char\" char=\".\">50</td></tr><tr><td style=\"border:none;\" align=\"left\">3.2</td><td style=\"border:none;\" align=\"char\" char=\".\">20</td><td style=\"border:none;\" align=\"char\" char=\".\">20</td><td style=\"border:none;\" align=\"char\" char=\".\">100</td></tr></tbody></table></table-wrap></sec><sec id=\"sec12.4\"><label>12.4</label><title><italic>Drosophila melanogaster</italic></title><p><italic>Drosophila melanogaster</italic> is a species of\\nfly belong\\nto family Drosophilidae. Different concentrations of GO caused nearly\\nto 100% mortality on day 16. After exposure to GO, larval crawling\\nwas first decreased to 50 &#x003bc;g/mL and increased to 200 &#x003bc;g/mL.\\nAn amount of 300 &#x003bc;g/mL causes fatal damage to the neuromuscular\\ncoordination of larvae (<xref rid=\"fig44\" ref-type=\"fig\">Figure <xref rid=\"fig44\" ref-type=\"fig\">44</xref></xref>).<sup><xref ref-type=\"bibr\" rid=\"ref274\">274</xref></sup></p><fig id=\"fig44\" position=\"float\"><label>Figure 44</label><caption><p>Crawling assay analysis\\n(Chem ZnO vs Green Z', name='An2023 lines 1664-1674', doc=Doc(docname='An2023', citation='\"An Update on Graphene Oxide: Applications and Toxicity.\" ACS Omega, vol. 8, no. 26, 2023, pp. 18532-18543. doi:10.1021/acsomega.2c03171.', dockey='249846627818fc0598be66e26fb64467'), embeddings=None) score=9\n",
      "context='- Graphene oxide (GO) has unique physical and chemical properties that make it suitable for various applications in biotechnology and medicine.\\n- GO can be chemically modified on its surface to improve its dispersion, stability, and biocompatibility.\\n- The presence of oxygen functional groups on the surface of GO affects its two-dimensional structure and properties, leading to increased thickness and the appearance of defects.\\n- GO has been shown to have biological effects, including cytotoxicity, genotoxicity, and oxidative stress.\\n- The specific mechanisms of interaction between GO and biological systems are still not fully understood, and further research is needed to address the knowledge gaps and challenges in this field.\\n\\nScore: 9' text=Text(text=', cell membrane damage, membra ne receptor interaction and \\noxidative stress. Finally, the knowledge gaps  and future challenges in this research field will be detailedly discussed. \\nKeywords   graphene oxide; surface chemical modification; nano-bio interface; interaction mechanism; biological effect  \\n   \\n1  引言 \\n2004年, Geim等[1]首次通过机械剥离法制得单层石\\n墨烯 . 石墨烯 (graphene) 是一种二维纳米材料 , 具有类\\n似蜂巢的六元环平面网状结构 , 厚度仅为 0.3354 nm[1]. \\n在石墨烯的纳米片层结构中 , 碳原子发生了 sp2杂化 , \\n每个碳原子通过键长为 142 nm的σ键与其它三个碳原\\n子连接 , 并在与片层垂直的方向形成离域大 π键[2,3]. 这些结构特征赋予了石墨烯优异的机械强度、化学稳定\\n性、高比表面积、导电和导热性能[4-7]. 因此 , 石墨烯在\\n能源、材料、健康、环境等方面都展现了广阔的应用前景.  \\n石墨烯拥有多种衍生物 , 包括氧化石墨烯 (graphene \\noxide, GO) 、还原氧化石墨烯 (reduced graphene oxide, \\nrGO)、氟化石墨烯 (fluorographene) 等. 不同类型的石墨DOI: 10.6023/A20060216  \\n化 学 学 报 综述  \\n \\n878   http://sioc-journal.cn © 2020 Shanghai Institute of Organic Chemistry, Chinese Academy of Sciences Acta Chim. Sinica 2020 , 78, 877—887\\n 烯衍生物具备各自独特的物理化学性质 , 并可应用于生\\n物传感器、成像探针、药物载体、抗菌材料等方面 . 例\\n如, 经过表面功能化的 GO可用于捕获循环肿瘤细胞[8]、\\n递送抗肿瘤药物[9]、杀伤细菌与病毒[10-12]. 氟化石墨烯\\n则可作为磁共振成像和光声成像的造影剂[13].  \\n作为最重要的一类石墨烯衍生物 , GO与石墨烯具\\n有类似的二维纳米片层结构 , 并可通过石墨烯的氧化反\\n应制得 . 虽然氧化过程会破坏石墨烯原有的高度共轭的\\n化学结构 , 但也引入了大量的化学活性位点 . 因此 , GO\\n纳米片层边缘与表面具有丰富的含氧官能团 , 可以用于\\n调控其表面化学性质 , 并进行特定的功能化设计 . 同时 , \\n由于表面性质的改变 , 相较于石墨烯 , GO在生理条件\\n下具有更好的分散性、胶体稳定性和生物相容性 . 这些\\n特性使得 GO在环境健康与疾病治疗领域受到比其它石\\n墨烯类材料更广泛的关注[14,15]. 尽管如此 , 针对 GO的\\n表面化学调控与生物作用机理的研究依然有限 , 存在诸\\n多重要的科学问题需要解答 . 例如 , 如何通过合适的化\\n学调控手段对 GO进行表面修饰与功能化的同时 , 也改\\n善其生物相容性 , 降低人体健康风险[16].  \\n为了更好地了解当前的研究现状 , 就有必要对 GO\\n表面化学修饰与纳米 -生物界面作用机理的研究进展进\\n行系统地回顾与总结 . 基于上述目的 , 本文综述了 GO\\n的物理化学特性、表面化学修饰的主要策略及可能引起\\n的生物效应 , 以及 GO表面性质影响纳米 -生物界面作用\\n的关键机理 . 最后 , 我们将对该研究领域存在的主要问\\n题与未来挑战进行讨论与展望 .  \\n2  氧化石墨烯的结构与性质  \\n常用的 GO化学合成方法包括 Hummers 法和\\nHofmann 法. 利用硝酸、氯酸钾或高锰酸钾等强氧化剂\\n处理石墨后 , 可以在石墨的瑕疵点位上引入含氧化学基\\n团[17]. 随后 , 由于含氧化学基团的亲水性 , 水分子可以\\n插入片层之间 , 将氧化石墨烯分散为单体[2]. 在不同的\\n合成方法与反应条件下 , 制备的 GO可能具有不同的横\\n向尺寸 (lateral size) 、碳氧比率 (C/O ratio) 、片层数等特\\n点(图1)[18].  \\n与石墨烯不同 , 含氧化学基团会影响 GO的二维纳\\n米片层结构与性质 . 在GO纳米片上 , 含氧化学基团结\\n合的 sp3杂化碳原子不规则的分布会导致二维片层发生\\n褶皱 . 因此 , 相较于石墨烯的片层厚度 (0.3354 nm)[1], \\nGO单片层的厚度显著提高 (0.7～1.3 nm)[19-22]. 此外 , sp3\\n杂化碳原子还破坏了石墨烯原本的共轭结构 , 导致 GO\\n表面出现缺陷[23]. 目前 , 最广为接受的 GO表面化学结\\n构模型为 Lerf-Klinowski 模型 . 在该模型中 , 羟基\\n(−OH)、环氧基常出现在 GO片层内部 , 而羧基\\n(−COOH)、内酯 (−COO −)、羰基 (−C＝O)则出现在片层\\n边缘[17,24]. 由于这些含氧化学基团的存在 , 在水溶液中 , GO表面通常带有大量负电荷 . 因此 , 纳米片之间的静\\n电力排斥作用增加了 GO的胶体稳定性[25,26]. 例如 , 经\\n过超声处理并静置 3周后 , GO在水溶液、乙二醇、 N,N-\\n二甲基甲酰胺 (DMF)、N-甲基 -2-吡咯烷酮 (NMP)、四氢\\n呋喃 (THF)中仍呈现出良好的分散状态[27]. 然而 , 在高\\n盐或高蛋白溶液中 , 未经表面修饰的 GO则容易发生聚\\n沉[28,29]. 为了提高 GO在生理条件下的稳定性与生物兼\\n容性 , 可以通过表面化学修饰的方式对 GO进行改性 , \\n代表性的方式包括氧化还原、羧基化、氨基化、有机小\\n分子修饰、聚合物修饰、生物分子修饰、纳米颗粒修饰等. 尽管 GO的表面化学调控方式五花八门 , 但大部分\\n表面修饰对 GO生物效应与作用机理的影响还缺少系统\\n的考察与评价 , 亟待开展更深入的科学研究 .  \\n \\n图1  依据层数、横向尺寸、碳氧比率对石墨烯类材料进行分类的网\\n格图[18]  \\nFigure 1   Classification grid for the cate gorization of different graphene \\ntypes according to three fundamental gr aphene based mate rials properties: \\nnumber of graphene layers, average lateral dimension, and atomic car-\\nbon/oxygen ratio. Reprinted with perm ission from ref. [18]. Copyright \\n2020 Wiley-VCH. \\n3  氧化石墨烯的表面化学调控方法与生物效应  \\nGO表面含氧官能团的种类、', name='Ma2020 pages 1-2', doc=Doc(docname='Ma2020', citation='Ma, Minghao, et al. \"Surface Chemical Modifications of Graphene Oxide and Interaction Mechanisms at the Nano-Bio Interface.\" Acta Chimica Sinica, vol. 78, 2020, pp. 877-887.', dockey='795d3fe899dfa2ebbc2d40d0e49d22c2'), embeddings=None) score=9\n",
      "context='- The viability of cells exposed to nano-graphene sheets was determined using the fluorescein diacetate (FDA) method.\\n- Surviving cells were stained green while the nucleus of dead cells presented an orange color.\\n- The surviving percentage was obtained by dividing the number of surviving cells by the total number of cells.\\n- The differences between the exposure and control groups were analyzed using the Wilcoxon test.\\n- Reactive oxygen species (ROS) levels were measured using the oxidant-sensitive dye DCFH-DA.\\n- The ROS level was defined as the ratio of fluorescence intensity of each sample to the intensity of a control sample without cells.\\n- RNA efflux was also studied, but no further information is provided in the given text.\\n\\nScore: 8/10' text=Text(text='L of the diluted graphene suspension at 37°C for 1 or 24 h. Then, the cells exposed to the nano-graphene sheets were separated from the wells by using trypsin-ethylenediaminetetraacetic acid (EDTA) 0.25% and centrifuged at 8000 rpm for 5 min. After removing the supernatants, the cell pellet was resuspended in the DMEM to obtain cell concentration of ∼10<ce:sup loc=\"post\">5</ce:sup> cells/mL for viability determination. The viability determination was performed immediately after the incubation time. The DMEM without the graphene supplements served as a negative control. 100 μM methyl methanesulphonate (MMS) was applied as a positive control of genotoxicity.</ce:para>\\n                  </ce:section>\\n                  <ce:section id=\"sec2.6\" view=\"all\">\\n                     <ce:label>2.6</ce:label>\\n                     <ce:section-title>Cell viability assay</ce:section-title>\\n                     <ce:para id=\"p0050\" view=\"all\">Viability of the cells exposed to the nano-graphene sheets was determined by using the fluorescein diacetate (FDA) method. The cells were stained by equal volume of 100 μg/mL FDA and 50 μg/mL ethidium bromide and observed under a fluorescence microscope supplied by a blue light excitation filter. Surviving cells were stained green while the nucleus of dead cells presented an orange color. The surviving percentage was obtained by dividing the number of the surviving cells by the total number of the cells. All tests were repeated at least three times. Moreover, SPSS software was utilized to statistically analyze the acquired data. To analyze the differences between the exposure and control groups Wilcoxon test was applied. The differences were considered significant and very significant for the <ce:italic>P</ce:italic>-values &lt; 0.05 and 0.01, respectively.</ce:para>\\n                  </ce:section>\\n                  <ce:section id=\"sec2.7\" view=\"all\">\\n                     <ce:label>2.7</ce:label>\\n                     <ce:section-title>Reactive oxygen species test</ce:section-title>\\n                     <ce:para id=\"p0055\" view=\"all\">The oxidant-sensitive dye DCFH-DA was used for monitoring the ROS level in a reactive oxygen species assay kit. At first, the cells (∼10<ce:sup loc=\"post\">5</ce:sup> cells/mL) prepared for the viability test were incubated with DCFH-DA (0.1 mM) for 24 h. Then, they were washed by PBS three times and cultured with the different concentrations of the nano-graphene sheets for an additional 24 h. The fluorescence intensity (indicating the ROS level) of the cells was measured. The ROS level was defined as ratio of fluorescence intensity of each sample to the intensity of a control sample without the cells. It should be noted that, all the tests were performed in dark.</ce:para>\\n                  </ce:section>\\n                  <ce:section id=\"sec2.8\" view=\"all\">\\n                     <ce:label>2.8</ce:label>\\n                     <ce:section-title>RNA efflux</ce:section-title>\\n                     <ce:par', name='Akhavan2012a lines 934-949', doc=Doc(docname='Akhavan2012a', citation='Akhavan, Omid, et al. \"Size-dependent genotoxicity of graphene nanoplatelets in human stem cells.\" Biomaterials, vol. 33, no. 32, 2012, pp. 8017-8025. doi:10.1016/j.biomaterials.2012.07.040.', dockey='6177b030ec43204219a282c26e6cde2d'), embeddings=None) score=8\n",
      "context='- Graphene oxide nanosheets localized on F-actin filaments induce cell-cycle alterations, apoptosis, and oxidative stress.\\n- The observed effects of graphene oxide must be considered in further studies focused on photothermal cancer therapy as a synergistic factor.\\n\\nScore: 8' text=Text(text='n, GO nanosheets are localized on F-actin filaments inducing cell-cycle alterations, apoptosis and oxidative stress in these cell types. The observed GOs effects must be considered in further studies focused on photothermal cancer therapy as a synergistic factor.</ce:simple-para>\\n               </ce:abstract-sec></ce:abstract>\\n            <ce:keywords xml:lang=\"en\" class=\"keyword\">\\n               <ce:section-title>Keywords</ce:section-title>\\n               <ce:keyword>\\n                  <ce:text>Actin</ce:text>\\n               </ce:keyword>\\n               <ce:keyword>\\n                  <ce:text>Biocompatibility</ce:text>\\n               </ce:keyword>\\n               <ce:keyword>\\n                  <ce:text>Interleukin</ce:text>\\n               </ce:keyword>\\n               <ce:keyword>\\n                  <ce:text>Macrophage</ce:text>\\n               </ce:keyword>\\n               <ce:keyword>\\n                  <ce:text>Nanoparticle</ce:text>\\n               </ce:keyword>\\n               <ce:keyword>\\n                  <ce:text>Osteoblast</ce:text>\\n               </ce:keyword>\\n            </ce:keywords>\\n         </head>\\n         <body view=\"all\">\\n            <ce:sections>\\n               <ce:section id=\"sec1\" view=\"all\">\\n                  <ce:label>1</ce:label>\\n                  <ce:section-title>Introduction</ce:section-title>\\n                  <ce:para id=\"p0010\" view=\"all\">Nanomedicine is focused in searching new nanosystems for biomedical applications and the research approaches in this area include various nanoparticles which are being investigated as they offer unique advantages. Among all nanoparticles, graphene is a single-atom-thick sheet of sp<ce:sup loc=\"post\">2</ce:sup>-hybridized carbon atoms that has attracted great interest in the world of nanotechnology because of its excellent properties as flexibility, elasticity, mechanical resistance and its ability to conduct electricity <ce:cross-refs refid=\"bib1 bib2 bib3\">[1–3]</ce:cross-refs>. Although current graphene research is mainly focused on nanoelectronics <ce:cross-ref refid=\"bib4\">[4]</ce:cross-ref>, the use of graphene for biomedical applications such as drug delivery <ce:cross-refs refid=\"bib5 bib6\">[5,6]</ce:cross-refs>, tissue engineering <ce:cross-refs refid=\"bib7 bib8\">[7,8]</ce:cross-refs> and hyperthermia cancer therapy <ce:cross-refs refid=\"bib9 bib10 bib11\">[9–11]</ce:cross-refs> has been recently proposed. The induction of hyperthermia on graphene for cancer treatment is possible due to the energy transfer produced during the irradiation of the material with light of wavelength in the near infrared (NIR) region (∼890\\xa0nm), generating vibrational energy. Its strong NIR absorption thus generates sufficient heat for cell destruction (40\\xa0°C) <ce:cross-refs refid=\"bib10 bib11\">[10,11]</ce:cross-refs> and it is called photothermal therapy. Graphene is classified depending on its properties such as surface area, number of layers, lateral dimension, surface chemistry and purity <ce:cross-ref', name='Matesanz2013 lines 1092-1121', doc=Doc(docname='Matesanz2013', citation='Matesanz, María-Concepción, et al. \"The effects of graphene oxide nanosheets localized on F-actin filaments on cell-cycle alterations.\" Biomaterials, vol. 34, no. 5, 2013, pp. 1562-1569. doi:10.1016/j.biomaterials.2012.11.001.', dockey='447784d020898d6a7c1c0c003c97ec57'), embeddings=None) score=8\n",
      "context='- Graphene oxide (G) exhibits oxidative potential in biological systems.\\n- G, like other carbon-based nanomaterials, shows evidence of apoptosis (cell death).\\n- Shape plays an important role in the oxidative potential of G.\\n- G was synthesized using a Fe/H11002Co/MgO catalyst system and characterized using microscopy, spectroscopy, and X-ray diffraction.\\n- G sheets were grown using radio frequency catalytic chemical vapor deposition (RF-cCVD) on a MgO-supported Fe/H11002Co catalyst system.\\n- G sheets were purified using diluted hydrochloric acid solution and sonication.\\n- Carbon nanotubes were also synthesized using the same catalyst system and RF-cCVD method.\\n- The as-produced graphene sheets and nanotubes were characterized using transmission electron microscopy (TEM).\\n- The effects of graphene on ROS generation were studied.' text=Text(text=' an oxidative stress mechanism.Furthermore, time-dependent caspase 3 (apoptosismarker) activation after exposure to G (10 /H9262g/mL)\\nshows evidence of apoptosis. Together, our data sug-gest that G, like many other carbon-based nanomateri-als such as CNT and fullerene, exhibit oxidative poten-tial in biological systems, with shape playing animportant role.\\nMATERIALS AND METHODS\\nGraphene Synthesis and Characterization. The Fe/H11002Co/MgO cata-\\nlyst system with a stoichiometric composition of 2.5:2.5:95 wt %was prepared by the impregnation method as previouslyshown.\\n9Few-layer graphene sheets were grown by radio fre-\\nquency catalytic chemical vapor deposition (RF-cCVD) on a MgO-supported Fe /H11002Co bimetallic catalyst system utilizing acetylene\\nas a hydrocarbon source. Approximately 100 mg of the catalystwas uniformly spread into a thin layer on a graphite susceptorand placed in the center of a quartz tube with an inner diam-eter of 1 in. First, the tube was purged with a carrier gas (argon)for 10 min at 150 mL/min. Next, the RF generator (which pro-vides a very fast heating rate of 300 /H11002350 °C/min) was turned on\\nto begin heating. When the temperature of the graphite boatreached 1000 °C, acetylene was introduced at 4.5 mL/min for 30min. At the end of the reaction, the system was cooled under ar-\\ngon for 10 min. The as-produced G sheets were puriﬁed in oneeasy step using diluted hydrochloric acid solution and sonica-tion. Graphene sheets were thoroughly characterized by micros-copy, spectroscopy, and X-ray diffraction.\\nSWNT Synthesis. Carbon nanotubes were synthesized over the\\nFe/H11002Co/MgO catalyst using the RF-cCVD method and methaneas the carbon source.\\n31The RF inductive heating was performed\\nusing an RF generator operated at 365 kHz. A 200 mg quantityof catalyst was placed in a graphite boat, and the boat was in-serted into a quartz reactor. The catalysts were heated in nitro-gen (ﬂow rate 600 mL/min) and annealed at 700 °C for 1 h. All ofthe synthesis reactions were performed at 850 °C with a meth-ane ﬂow rate of 80 mL/min, while keeping the nitrogen ﬂow con-\\nstant. The temperature of the graphite boat was continuouslymeasured by an optical pyrometer and was found to be verystable during the reaction process. After 30 min of reaction time,the methane was turned off, and the resulting product was al-lowed to cool in nitrogen ﬂow. The as-produced SWNTs were pu-riﬁed using hydrochloric acid solution. Their diameters werefound to range between 0.8 and 1.2 nm, as previouslyshown.\\n31\\nTEM images were collected on a ﬁeld emission JEM-2100F\\ntransmission electron microscopy (JEOL Inc.) equipped with aCCD camera. The acceleration voltage was 100 kV for the Ganalysis. The G nanosheets and the nanotube samples were ho-mogeneously dispersed in 2-propanol under ultrasonication for30 min. Next, a few drops of the suspension were deposited onthe TEM grid, dried, and evacuated before analysis.\\nFigure 4. Effect of graphene on (A) ROS generation and (B', name='Zhang3900 pages 4-4', doc=Doc(docname='Zhang3900', citation='Zhang, Yongbin, et al. \"Cytotoxicity Effects of Graphene and Single-Wall Carbon Nanotubes in Neural Phaeochromocytoma-Derived PC12 Cells.\" Neurochemistry Laboratory, Division of Neurotoxicology, National Center for Toxicological Research, Food and Drug Administration, 3900 NCTR Road, Jefferson, Arkansas 72079 and Nanotechnology Center, Applied Science Department, University of Arkansas at Little Rock, 2801 South University Avenue, Little Rock, Arkansas 72204. 07/05/2023.', dockey='9475f501936e416ee6e948240bbed50d'), embeddings=None) score=5\n",
      "context='- The article evaluates the in vitro toxicity of graphene (G) and single-wall carbon nanotubes (SWCNT) on neural PC12 cells.\\n- The study aims to understand the interaction and bioreactivity of these nanomaterials when exposed to neuronal cells.\\n- The cytotoxic effects of G and SWCNT are compared in similar conditions.\\n- The study indicates a clear difference in toxic levels between G and SWCNT.\\n- This is the first study to address the issue of cytotoxicity of G and SWCNT on neural cells.\\n- The effects observed upon exposure to graphene oxide are not mentioned in the provided text.' text=Text(text='Cytotoxicity Effects of Graphene and\\nSingle-Wall Carbon Nanotubes in NeuralPhaeochromocytoma-Derived PC12Cells\\nYongbin Zhang,†Syed F. Ali,†,* Enkeleda Dervishi,‡Yang Xu,‡Zhongrui Li,‡Daniel Casciano,‡and\\nAlexandru S. Biris‡,*\\n†Neurochemistry Laboratory, Division of Neurotoxicology, National Center for Toxicological Research, Food and Drug Administration, 3900 NCTR Roa d, Jefferson, Arkansas\\n72079 and‡Nanotechnology Center, Applied Science Department, University of Arkansas at Little Rock, 2801 South University Avenue, Little Rock, Arkansas 722 04\\nGraphitic nanomaterials Osuch as\\ncarbon nanotubes (CNT),fullerenes, and more recently\\ngraphene Ohave gained a great deal of in-\\nterest in the scientiﬁc community due totheir novel properties and wide range of po-tential applications. Graphene (G) has be-come one of the most intensively studiedsuch nanomaterials for a number of applica-tions. Studies focus on taking advantage of\\nits chemical, physical, and other propertiesin order to develop novel applications withadvanced scientiﬁc and commercialpotential.\\n1/H110024However, the biological appli-\\ncations and potential adverse effects of Gremain almost completely unknown. Re-cently, G or graphite oxides sheets have re-ceived signiﬁcant attention for their poten-tial application in biology and medicine,including biodevices, microbial detection,disease diagnosis,\\n5and drug delivery sys-\\ntems.6A key issue that needs to be investi-\\ngated in the full implementation of such na-nomaterials in a large range of biologicalapplications and processes is their relativelyunknown cytotoxicity and biological activ-ity. Such studies would provide insight intothe interaction between atomically ﬂat gra-phitic structures and various biological sys-tems both in vitro and in vivo . The cytotoxic\\neffects of G are expected to be signiﬁcantlydifferent when compared to those of one-dimensional CNT, which have been widelystudied.\\n7,8Although the two materials have\\na similar chemical composition and crystal-line structure, their shape is different (ﬂatatomic sheets for G and tubular for nano-tubes); as a result, their interactions with cellsystems are expected to be governed bydifferent mechanisms. Given the high po-\\ntential of G structures to be used as deliv-ery vehicles for growth factors and otherproteins for neural reconstruction and re-generation of the nervous system (which isessential in the treatment of Alzheimer’sdisease), it is crucial to fully study and un-derstand the interaction and the bioreactiv-ity of such nanomaterials when exposed toneuronal cells. This article presents anevaluation of the in vitro toxicity of G by us-\\ning neuronal PC12 cells compared to single-wall carbon nanotubes (SWCNT) in similarconditions. A clear difference in the toxiclevels between G and SWCNT is indicated.To the best of our knowledge, this is the ﬁrststudy to address this issue.\\nG AND SWCNT SYNTHESIS\\nHigh quantities of few-layer G sheets\\nwere successfully synthesized on theFe/H11002Co/MgO', name='Zhang3900 pages 1-1', doc=Doc(docname='Zhang3900', citation='Zhang, Yongbin, et al. \"Cytotoxicity Effects of Graphene and Single-Wall Carbon Nanotubes in Neural Phaeochromocytoma-Derived PC12 Cells.\" Neurochemistry Laboratory, Division of Neurotoxicology, National Center for Toxicological Research, Food and Drug Administration, 3900 NCTR Road, Jefferson, Arkansas 72079 and Nanotechnology Center, Applied Science Department, University of Arkansas at Little Rock, 2801 South University Avenue, Little Rock, Arkansas 72204. 07/05/2023.', dockey='9475f501936e416ee6e948240bbed50d'), embeddings=None) score=5\n",
      "context='- Exposure to graphene oxide causes mitochondria to stop working properly, leading to oxidative stress.\\n- Protein/Graphene Oxide (GO) complex formation involves various interactions such as electrostatic, H-bonding, hydrophobic, and π-π interactions and van der Waals forces.\\n- The formation of a complex between protein and GO depends on the functional groups on the protein surface and GO.\\n- Interaction of GO with lysozyme causes conformational changes in the protein, resulting in a red shift in fluorescence intensity.\\n- At higher pH, lysozymes may undergo further conformational changes.\\n- Exposure to GO can affect the structure and behavior of proteins.' text=Text(text='to this release, mitochondria stop working properly, and their\\nfunction imparted causes oxidative stress, as shown in <xref rid=\"fig85\" ref-type=\"fig\">Figure <xref rid=\"fig85\" ref-type=\"fig\">85</xref></xref>.</p><fig id=\"fig85\" position=\"float\"><label>Figure 85</label><caption><p>Macrophage cells&#x02019;\\nabsorption and breakdown of the nanocomposite\\nas well as the creation of oxidative stress. Reproduced with ref (<xref ref-type=\"bibr\" rid=\"ref308\">308</xref>). Copyright@2016, Springer,\\nLtd., Journal of Nanobiotechnology.</p></caption><graphic xmlns:xlink=\"http://www.w3.org/1999/xlink\" xlink:href=\"ao2c03171_0085\" id=\"gr85\" position=\"float\"/></fig></sec><sec id=\"sec17\"><label>17</label><title>Protein/DNA Interaction with Graphene Oxide</title><p>Protein&#x02013;GO complex formation involves various interactions\\nsuch as electrostatic, H-bonding, hydrophobic, and &#x003c0;&#x02013;&#x003c0;\\ninteractions and van der Waals forces.<sup><xref ref-type=\"bibr\" rid=\"ref309\">309</xref></sup> Such interactions are surface-dependent; hence, the formation of\\na complex is dependent on the functional groups situated at the protein\\nsurface and GO, as shown in <xref rid=\"fig86\" ref-type=\"fig\">Figure <xref rid=\"fig86\" ref-type=\"fig\">86</xref></xref>.<sup><xref ref-type=\"bibr\" rid=\"ref310\">310</xref></sup></p><fig id=\"fig86\" position=\"float\"><label>Figure 86</label><caption><p>Schematic representation\\nfor the interaction of GO with a protein.</p></caption><graphic xmlns:xlink=\"http://www.w3.org/1999/xlink\" xlink:href=\"ao2c03171_0086\" id=\"gr86\" position=\"float\"/></fig><sec id=\"sec17.1\"><label>17.1</label><title>Graphene Oxide with Lysozyme</title><p>Fluorescence\\nspectroscopy of GO interaction with lysozyme reflects changes in the\\nstructure of our protein. Due to conformational changes in lysozyme,\\nthere is some red shift.<sup><xref ref-type=\"bibr\" rid=\"ref311\">311</xref></sup> The fluorescence\\nintensity of our protein is observed to decrease when the pH is increased\\nabove 7.4, at which the intensity was the highest. Lower pH values\\ndid not show much change as shown in <xref rid=\"fig87\" ref-type=\"fig\">Figure <xref rid=\"fig87\" ref-type=\"fig\">87</xref></xref>. This shows that at higher pH lysozymes\\nmay undergo some conformational changes.<sup><xref ref-type=\"bibr\" rid=\"ref312\">312</xref></sup></p><fig id=\"fig87\" position=\"float\"><label>Figure 87</label><caption><p>Fluorescence emission spectra of Lyz in the presence of various\\nconcentrations of GO at different pH. Concentrations of GO are (lg/mL):\\n0, 4, 8, 12, 16, and 20. Lyz = 0.143 mg/mL. <italic>k</italic><sub>ex</sub> = 286 nm. Reproduced with permission from ref (<xref ref-type=\"bibr\" rid=\"ref312\">312</xref>). Copyright@2021, Elsevier,\\nLtd., Spectrochimica Acta Part A: Molecular and Biomolecular Spectroscopy.</p></caption><graphic xmlns:xlink=\"http://www.w3.org/1999/xlink\" xlink:href=\"ao2c03171_0087\" id=\"gr87\" position=\"float\"/></fig></sec><sec id=\"sec17.2\"><label>17.2</label><title>Graphene Oxide with BSA</title>', name='An2023 lines 2044-2062', doc=Doc(docname='An2023', citation='\"An Update on Graphene Oxide: Applications and Toxicity.\" ACS Omega, vol. 8, no. 26, 2023, pp. 18532-18543. doi:10.1021/acsomega.2c03171.', dockey='249846627818fc0598be66e26fb64467'), embeddings=None) score=5\n",
      "context='- The study investigated the toxicological effects and molecular toxicity mechanisms of graphene oxides (GOs).\\n- Various types of stress, including general, chemical, DNA, oxidative, and protein stress, were examined.\\n- Conventional phenotypic bioassays were performed to compare toxicity endpoints and provide phenotypic anchoring.\\n- The results revealed the potential relations between GO toxicity and its various physiochemical properties.\\n- The physical and chemical characteristics of the treated GO materials were analyzed, including oxygen content, impurities, and zeta potential.\\n- The effects of different treatments on the carbon-carbon, epoxy, hydroxyl, and carboxylic groups in GO were observed.\\n- The stability of GOs in the SD medium and the tendency to aggregate were assessed.\\n- The study did not directly mention the specific effects observed upon exposure to graphene oxide.' text=Text(text=', including general, chemical, DNA, oxidative, and protein stress. Conventional phenotypic bioassays, including the reactive oxygen species (ROS) measurement assay for oxidative stress, and the alkaline comet assay for genotoxicity, were performed for toxicity endpoints comparison and phenotypic anchoring. The results reveal the toxicological effects and molecular toxicity mechanisms of GOs and disclose the potential relations between GO toxicity and its various physiochemical properties.</p></sec><sec sec-type=\"results\" id=\"sec2-ijms-22-10578\"><title>2. Results</title><sec id=\"sec2dot1-ijms-22-10578\"><title>2.1. Treatment and Characterization of Graphene Oxides</title><p>The physical and chemical characteristics of the five treated GO materials are shown in <xref rid=\"ijms-22-10578-t001\" ref-type=\"table\">Table 1</xref>. The GOs were treated with strong acid and then purified to a great extent prior to use. No metal contaminations were observed for the GOs, and the impurities included 2&#x02013;3% of sulfur and &#x0003c;1% of nitrogen. The oxygen contents for the untreated 45-min-sonicated, and 2.5-h-sonicated GOs were the same, which was 36.1 &#x000b1; 0.1 %, while the UV-treated and thermally reduced GOs, with oxygen contents of 35 &#x000b1; 0.7 % and 33.9 &#x000b1; 0.1 %, respectively, had a lower oxygen than untreated GO. It is worth noting that the oxygen content of thermally reduced GO was significantly lower (<italic toggle=\"yes\">p</italic> = 0.0001) than that of the untreated control GO, while the difference between the untreated control and the UV-treated GOs was not significant (<italic toggle=\"yes\">p</italic> &#x0003e; 0.05). Correspondingly, the O/C ratio had the same trend for all five samples. The impurities and the monolayer content were the same for all five samples.</p><p>GO mainly consists of carbon and oxygen species bonded to carbon, e.g., the epoxy, hydroxyl, and carboxylic groups. Because of its complex nonstoichiometric nature, the contents for each species may vary significantly. In our study, untreated thermally reduced and sonicated samples have similar carbon-carbon, epoxy, hydroxyl, and carboxylic groups. In contrast, for the UV-treated sample, the carbon-carbon groups are significantly higher than for the untreated GO, while the epoxy and hydroxyl groups are significantly lower than for the untreated one.</p><p>Zeta potential is an important characteristic indicating the stability of colloidal dispersions. The low zeta potential values for the five samples, ranging from &#x02212;5.53 &#x000b1; 0.36 mV to &#x02212;7.39 &#x000b1; 0.56 mV, means a low stability of GOs in the SD medium. Moreover, the UV-treated and thermally reduced GOs have lower zeta potential than the other three, indicating that the former two samples are more inclined to aggregate in the SD medium. However, after adding the dispersant (1% BSA), the aggregation was quite slight, indicated by the similar aggregation size determined by the DLS of GOs pr', name='Dependence2021 lines 6-7', doc=Doc(docname='Dependence2021', citation='\"Dependence of Graphene Oxide (GO) Toxicity on Oxidation Level, Elemental Composition, and Size.\" International Journal of Molecular Sciences, vol. 22, no. 19, 2021, article 10578. DOI: 10.3390/ijms221910578.', dockey='e677139684b6c838453deb11dfb0325b'), embeddings=None) score=5\n",
      "context='The text discusses the use of graphene in biomedicine, including its use in biosensors, drug and gene delivery, photothermal therapy, imaging, and tissue engineering. It also mentions the potential toxicity of graphene in biological systems, including pulmonary inflammation and accumulation in the lung. The effects of exposure to graphene oxide are not explicitly stated in the text. \\n\\nScore: 5' text=Text(text='ord>\\n               <ce:keyword>\\n                  <ce:text>Oral feeding</ce:text>\\n               </ce:keyword>\\n               <ce:keyword>\\n                  <ce:text>Intraperitoneal administration</ce:text>\\n               </ce:keyword>\\n            </ce:keywords>\\n         </head>\\n         <body view=\"all\">\\n            <ce:sections>\\n               <ce:section id=\"sec1\" view=\"all\">\\n                  <ce:label>1</ce:label>\\n                  <ce:section-title>Introduction</ce:section-title>\\n                  <ce:para id=\"p0010\" view=\"all\">The past several years have witnessed the explosion of graphene research in a variety of different fields, owing to the fascinating physical and chemical properties of this class of two-dimensional (2D) nanomaterials <ce:cross-refs refid=\"bib1 bib2 bib3 bib4 bib5 bib6 bib7\">[1–7]</ce:cross-refs>. Regarding the use of graphene in biomedicine, there have been numerous reports to develop graphene-based biosensors aiming at detecting biomolecules with high sensitivities <ce:cross-refs refid=\"bib8 bib9 bib10 bib11 bib12 bib13\">[8–13]</ce:cross-refs>. Owing to their ultra-high specific surface area, graphene and graphene oxide (GO) with appropriate surface functionalization can be used for drug and gene delivery <ce:cross-refs refid=\"bib14 bib15 bib16 bib17 bib18 bib19 bib20 bib21 bib22\">[14–22]</ce:cross-refs>. The interesting intrinsic physical properties such strong light absorption and fluorescence of functionalized GO and its nano-composites have also been utilized for photothermal therapy of\\xa0cancer and as contrast agent for in\\xa0vitro and in\\xa0vivo imaging <ce:cross-refs refid=\"bib17 bib23 bib24 bib25 bib26 bib27 bib28 bib29 bib30 bib31\">[17,23–31]</ce:cross-refs>. Moreover, graphene-based materials have recently shown promise as tissue engineering scaffolds for controlled growth and differentiation of several important classes of cells <ce:cross-refs refid=\"bib32 bib33 bib34 bib35 bib36 bib37\">[32–37]</ce:cross-refs>. The exploration of graphene and its related nanomaterials in various directions of biomedicine are blooming nowadays.</ce:para>\\n                  <ce:para id=\"p0015\" view=\"all\">Owing to the extensive use of graphene-based materials in academic research as well as the growing interests of applying them in the industry with large scales, the potential toxicity of graphene in biological systems has become a great concern <ce:cross-refs refid=\"bib38 bib39 bib40 bib41 bib42 bib43 bib44\">[38–44]</ce:cross-refs>. It has been reported in a number of previous studies that pristine graphene or as-made GO without further surface modification after inhalation would cause severe pulmonary inflammation <ce:cross-ref refid=\"bib39\">[39]</ce:cross-ref>. As-made GO after intravenous (i.v.) injection into mice would also accumulate in the lung, resulting in pulmonary edema and granuloma formation <ce:cross-refs refid=\"bib45 bib46\">[45,46]</ce:cross-refs>. On the other hand, surface functionalized graphene or GO with improve', name='Yang2013 lines 926-938', doc=Doc(docname='Yang2013', citation='Yang, Kai, et al. \"In vivo biodistribution and toxicology of functionalized nano-graphene oxide in mice after oral and intraperitoneal administration.\" Biomaterials, vol. 34, no. 11, 2013, pp. 2787-2795. doi:10.1016/j.biomaterials.2013.01.001.', dockey='2185ab70012694b75121e60b0592750d'), embeddings=None) score=5\n"
     ]
    }
   ],
   "source": [
    "q = 'Give me a bullet point list of the effects observed upon exposure to graphene oxide'\n",
    "answer = docs.query(q,k=k, max_sources=doc_number,)\n",
    "display(Markdown(answer.answer))\n",
    "for i in answer.contexts:\n",
    "    print(i)\n"
   ]
  },
  {
   "cell_type": "code",
   "execution_count": 6,
   "metadata": {},
   "outputs": [
    {
     "data": {
      "text/markdown": [
       "**Answer**: Graphene oxide (GO) did not enter A549 cells and did not show obvious cytotoxicity (Chang2011)."
      ],
      "text/plain": [
       "<IPython.core.display.Markdown object>"
      ]
     },
     "metadata": {},
     "output_type": "display_data"
    },
    {
     "data": {
      "text/markdown": [
       "I cannot answer."
      ],
      "text/plain": [
       "<IPython.core.display.Markdown object>"
      ]
     },
     "metadata": {},
     "output_type": "display_data"
    },
    {
     "data": {
      "text/markdown": [
       "**Answer**: GO caused a dose-dependent oxidative stress in A549 cells (Chang2011)."
      ],
      "text/plain": [
       "<IPython.core.display.Markdown object>"
      ]
     },
     "metadata": {},
     "output_type": "display_data"
    },
    {
     "data": {
      "text/markdown": [
       "I cannot answer."
      ],
      "text/plain": [
       "<IPython.core.display.Markdown object>"
      ]
     },
     "metadata": {},
     "output_type": "display_data"
    },
    {
     "data": {
      "text/markdown": [
       "**Answer**: At high concentrations, GO induced a slight loss of cell viability (Chang2011)."
      ],
      "text/plain": [
       "<IPython.core.display.Markdown object>"
      ]
     },
     "metadata": {},
     "output_type": "display_data"
    },
    {
     "data": {
      "text/markdown": [
       "I cannot answer."
      ],
      "text/plain": [
       "<IPython.core.display.Markdown object>"
      ]
     },
     "metadata": {},
     "output_type": "display_data"
    },
    {
     "data": {
      "text/markdown": [
       "**Answer**: GO exhibited cytotoxicity on human mesenchymal stem cells (An2023)."
      ],
      "text/plain": [
       "<IPython.core.display.Markdown object>"
      ]
     },
     "metadata": {},
     "output_type": "display_data"
    },
    {
     "data": {
      "text/markdown": [
       "I cannot answer."
      ],
      "text/plain": [
       "<IPython.core.display.Markdown object>"
      ]
     },
     "metadata": {},
     "output_type": "display_data"
    },
    {
     "data": {
      "text/markdown": [
       "**Answer**: GO induced DNA fragmentation in cells exposed to it (An2023)."
      ],
      "text/plain": [
       "<IPython.core.display.Markdown object>"
      ]
     },
     "metadata": {},
     "output_type": "display_data"
    },
    {
     "data": {
      "text/markdown": [
       "I cannot answer."
      ],
      "text/plain": [
       "<IPython.core.display.Markdown object>"
      ]
     },
     "metadata": {},
     "output_type": "display_data"
    },
    {
     "data": {
      "text/markdown": [
       "**Answer**: GO caused severe lung inflammation, alveolar exudates, hyaline membrane formation, protein leakage into the alveolar space, BAL fluid pleiocytosis, and elevated BAL levels of pro-inflammatory cytokines (Duch2011)."
      ],
      "text/plain": [
       "<IPython.core.display.Markdown object>"
      ]
     },
     "metadata": {},
     "output_type": "display_data"
    },
    {
     "data": {
      "text/markdown": [
       "I cannot answer. The text does not provide specific information about the concentrations or dosage of graphene oxide (GO) that led to the observed outcomes of severe lung inflammation, alveolar exudates, hyaline membrane formation, protein leakage into the alveolar space, BAL fluid pleiocytosis, and elevated BAL levels of pro-inflammatory cytokines (Duch2011)."
      ],
      "text/plain": [
       "<IPython.core.display.Markdown object>"
      ]
     },
     "metadata": {},
     "output_type": "display_data"
    },
    {
     "data": {
      "text/markdown": [
       "**Answer**: GO induced negative effects on plant growth, including an increase in reactive oxygen species (ROS), cell death, and necrotic lesions (Seabra2013)."
      ],
      "text/plain": [
       "<IPython.core.display.Markdown object>"
      ]
     },
     "metadata": {},
     "output_type": "display_data"
    },
    {
     "data": {
      "text/markdown": [
       "I cannot answer."
      ],
      "text/plain": [
       "<IPython.core.display.Markdown object>"
      ]
     },
     "metadata": {},
     "output_type": "display_data"
    },
    {
     "data": {
      "text/markdown": [
       "**Answer**: GO induced significant oxidative stress in the gut of Daphnia magna (Lv2018)."
      ],
      "text/plain": [
       "<IPython.core.display.Markdown object>"
      ]
     },
     "metadata": {},
     "output_type": "display_data"
    },
    {
     "data": {
      "text/markdown": [
       "According to the study by Lv et al. (2018), significant oxidative stress was induced in the gut of Daphnia magna by graphene oxide (GO) at concentrations of 20 mg/L or higher after 24 hours of exposure. Furthermore, at exposure times longer than 48 hours, all tested GO concentrations ranging from 5-50 mg/L caused significant increases in superoxide dismutase (SOD) activity, indicating antioxidant defense. However, peroxidative damage, as indicated by elevated levels of lipid peroxidation (LPO), was only observed in samples treated with the highest GO concentration of 50 mg/L for 48 hours or longer (Lv2018)."
      ],
      "text/plain": [
       "<IPython.core.display.Markdown object>"
      ]
     },
     "metadata": {},
     "output_type": "display_data"
    },
    {
     "data": {
      "text/markdown": [
       "**Answer**: GO did not have any antimicrobial effects on bacteria and promoted bacterial growth (Ruiz2011)."
      ],
      "text/plain": [
       "<IPython.core.display.Markdown object>"
      ]
     },
     "metadata": {},
     "output_type": "display_data"
    },
    {
     "data": {
      "text/markdown": [
       "The study by Ruiz (2011) found that graphene oxide (GO) concentrations of 25 μg and 75 μg led to the outcome of promoting bacterial growth. Filters containing 25 μg of GO had double the amount of bacteria compared to filters without GO, while filters covered with 75 μg of GO had three times more cells than the neat filter. The study observed that areas with higher GO content on the filters had large cell colonies that followed a lined pattern, indicating a preference of bacteria to attach and grow in areas containing GO. Therefore, the concentrations of 25 μg and 75 μg of GO were found to enhance microbial growth when coated onto another surface (Ruiz, 2011)."
      ],
      "text/plain": [
       "<IPython.core.display.Markdown object>"
      ]
     },
     "metadata": {},
     "output_type": "display_data"
    },
    {
     "data": {
      "text/markdown": [
       "**Answer**: GO exhibited genotoxic effects on stem cells, including DNA fragmentation and chromosomal aberrations (Akhavan2012a)."
      ],
      "text/plain": [
       "<IPython.core.display.Markdown object>"
      ]
     },
     "metadata": {},
     "output_type": "display_data"
    },
    {
     "data": {
      "text/markdown": [
       "Based on the information provided in Akhavan2012a, the genotoxic effects of graphene oxide (GO) on stem cells, including DNA fragmentation and chromosomal aberrations, were observed at concentrations of 0.01-100 μg/mL. The study did not specify a particular dosage that led to these outcomes (Akhavan2012a lines 797-846)."
      ],
      "text/plain": [
       "<IPython.core.display.Markdown object>"
      ]
     },
     "metadata": {},
     "output_type": "display_data"
    },
    {
     "data": {
      "text/markdown": [
       "**Answer**: GO caused immobility/mortality in C. dubia and Drosophila melanogaster (An2023)."
      ],
      "text/plain": [
       "<IPython.core.display.Markdown object>"
      ]
     },
     "metadata": {},
     "output_type": "display_data"
    },
    {
     "data": {
      "text/markdown": [
       "The concentrations of graphene oxide (GO) nanoparticles that led to immobility/mortality in C. dubia and Drosophila melanogaster were 0.4 mg/L and above for C. dubia (An2023 lines 1664-1674) and 50 μg/mL and above for Drosophila melanogaster larvae (An2023)."
      ],
      "text/plain": [
       "<IPython.core.display.Markdown object>"
      ]
     },
     "metadata": {},
     "output_type": "display_data"
    },
    {
     "data": {
      "text/markdown": [
       "**Answer**: GO induced cell-cycle alterations, apoptosis, and oxidative stress (Matesanz2013)."
      ],
      "text/plain": [
       "<IPython.core.display.Markdown object>"
      ]
     },
     "metadata": {},
     "output_type": "display_data"
    },
    {
     "data": {
      "text/markdown": [
       "I cannot answer."
      ],
      "text/plain": [
       "<IPython.core.display.Markdown object>"
      ]
     },
     "metadata": {},
     "output_type": "display_data"
    },
    {
     "name": "stderr",
     "output_type": "stream",
     "text": [
      "Retrying langchain.chat_models.openai.acompletion_with_retry.<locals>._completion_with_retry in 1.0 seconds as it raised APIError: Bad gateway. {\"error\":{\"code\":502,\"message\":\"Bad gateway.\",\"param\":null,\"type\":\"cf_bad_gateway\"}} 502 {'error': {'code': 502, 'message': 'Bad gateway.', 'param': None, 'type': 'cf_bad_gateway'}} <CIMultiDictProxy('Date': 'Wed, 05 Jul 2023 13:23:44 GMT', 'Content-Type': 'application/json', 'Content-Length': '84', 'Connection': 'keep-alive', 'X-Frame-Options': 'SAMEORIGIN', 'Referrer-Policy': 'same-origin', 'Cache-Control': 'private, max-age=0, no-store, no-cache, must-revalidate, post-check=0, pre-check=0', 'Expires': 'Thu, 01 Jan 1970 00:00:01 GMT', 'Server': 'cloudflare', 'CF-RAY': '7e1fe4f8cfd20b5a-AMS', 'alt-svc': 'h3=\":443\"; ma=86400')>.\n"
     ]
    },
    {
     "data": {
      "text/markdown": [
       "**Answer**: GO exhibited oxidative potential in biological systems and induced apoptosis (Zhang3900)."
      ],
      "text/plain": [
       "<IPython.core.display.Markdown object>"
      ]
     },
     "metadata": {},
     "output_type": "display_data"
    },
    {
     "data": {
      "text/markdown": [
       "I cannot answer."
      ],
      "text/plain": [
       "<IPython.core.display.Markdown object>"
      ]
     },
     "metadata": {},
     "output_type": "display_data"
    },
    {
     "data": {
      "text/markdown": [
       "**Answer**: GO caused mitochondria dysfunction and oxidative stress (An2023)."
      ],
      "text/plain": [
       "<IPython.core.display.Markdown object>"
      ]
     },
     "metadata": {},
     "output_type": "display_data"
    },
    {
     "data": {
      "text/markdown": [
       "The study found that the 2.5-hour sonicated graphene oxide (GO) at concentrations of 8 and 32 mg/L led to mitochondria dysfunction and oxidative stress (Dependence2021 lines 10-11)."
      ],
      "text/plain": [
       "<IPython.core.display.Markdown object>"
      ]
     },
     "metadata": {},
     "output_type": "display_data"
    },
    {
     "data": {
      "text/markdown": [
       "**Answer**: The specific effects observed upon exposure to graphene oxide are not mentioned in the provided text (Yang2013)."
      ],
      "text/plain": [
       "<IPython.core.display.Markdown object>"
      ]
     },
     "metadata": {},
     "output_type": "display_data"
    },
    {
     "data": {
      "text/markdown": [
       "I cannot answer."
      ],
      "text/plain": [
       "<IPython.core.display.Markdown object>"
      ]
     },
     "metadata": {},
     "output_type": "display_data"
    }
   ],
   "source": [
    "answers = answer.answer.replace('- ', '').split('\\n')\n",
    "for a in answers:\n",
    "    qa = f'You said: {a}. Which graphene oxide concetrations or dosage led to that outcome?'\n",
    "    qa_answer = docs.query(qa,k=10, max_sources=1,)\n",
    "    display(Markdown(f'**Answer**: {a}'))\n",
    "    display(Markdown(qa_answer.answer))"
   ]
  },
  {
   "cell_type": "code",
   "execution_count": 7,
   "metadata": {},
   "outputs": [
    {
     "data": {
      "text/markdown": [
       "- The toxicity of graphene oxide (GO) may be influenced by its diameter size (Ma2020).\n",
       "- Small-sized GOs tend to have a higher toxicity level compared to larger-sized GOs (Dependence2021).\n",
       "- Small-sized GOs can accumulate in different organs of mice, indicating size-dependent dispersion (Dependence2021).\n",
       "- Small-sized GOs exhibit higher antimicrobial activity compared to larger-sized GOs (Dependence2021).\n",
       "- The toxicity mechanisms of GO may vary in different cell lines, especially eukaryotic cells (Dependence2021).\n",
       "- The relative size comparison of GO may differ in eukaryotic cells due to their larger dimensions (Dependence2021).\n",
       "- The size or diameter of graphene oxide is not mentioned in the provided text (Zhang3900)."
      ],
      "text/plain": [
       "<IPython.core.display.Markdown object>"
      ]
     },
     "metadata": {},
     "output_type": "display_data"
    }
   ],
   "source": [
    "q2 = 'Give me a bullet point list of observations on how graphene oxide diameter size can lead to toxicity'\n",
    "answer2 = docs.query(q2,k=k, max_sources=doc_number,)\n",
    "display(Markdown(answer2.answer))"
   ]
  },
  {
   "cell_type": "code",
   "execution_count": 9,
   "metadata": {},
   "outputs": [
    {
     "name": "stderr",
     "output_type": "stream",
     "text": [
      "Retrying langchain.chat_models.openai.acompletion_with_retry.<locals>._completion_with_retry in 1.0 seconds as it raised APIError: Bad gateway. {\"error\":{\"code\":502,\"message\":\"Bad gateway.\",\"param\":null,\"type\":\"cf_bad_gateway\"}} 502 {'error': {'code': 502, 'message': 'Bad gateway.', 'param': None, 'type': 'cf_bad_gateway'}} <CIMultiDictProxy('Date': 'Wed, 05 Jul 2023 13:31:23 GMT', 'Content-Type': 'application/json', 'Content-Length': '84', 'Connection': 'keep-alive', 'X-Frame-Options': 'SAMEORIGIN', 'Referrer-Policy': 'same-origin', 'Cache-Control': 'private, max-age=0, no-store, no-cache, must-revalidate, post-check=0, pre-check=0', 'Expires': 'Thu, 01 Jan 1970 00:00:01 GMT', 'Server': 'cloudflare', 'CF-RAY': '7e1ff01b99fe0e00-AMS', 'alt-svc': 'h3=\":443\"; ma=86400')>.\n"
     ]
    },
    {
     "data": {
      "text/markdown": [
       "- Graphene oxide (GO) without surface modification can cause severe pulmonary inflammation when inhaled (Yang2013).\n",
       "- As-made GO after intravenous injection can accumulate in the lung, leading to pulmonary edema and granuloma formation (Yang2013).\n",
       "- Carboxylation of GO decreases its toxicity (Chang2011"
      ],
      "text/plain": [
       "<IPython.core.display.Markdown object>"
      ]
     },
     "metadata": {},
     "output_type": "display_data"
    }
   ],
   "source": [
    "q3 = 'Give me a bullet point list of observations on how graphene oxide coating or functionalization can lead to toxicity'\n",
    "answer3 = docs.query(q3,k=k, max_sources=doc_number,)\n",
    "display(Markdown(answer3.answer))"
   ]
  }
 ],
 "metadata": {
  "kernelspec": {
   "display_name": "base",
   "language": "python",
   "name": "python3"
  },
  "language_info": {
   "codemirror_mode": {
    "name": "ipython",
    "version": 3
   },
   "file_extension": ".py",
   "mimetype": "text/x-python",
   "name": "python",
   "nbconvert_exporter": "python",
   "pygments_lexer": "ipython3",
   "version": "3.9.13"
  },
  "orig_nbformat": 4
 },
 "nbformat": 4,
 "nbformat_minor": 2
}
