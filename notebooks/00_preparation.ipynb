{
 "cells": [
  {
   "cell_type": "code",
   "execution_count": 1,
   "metadata": {},
   "outputs": [
    {
     "name": "stdout",
     "output_type": "stream",
     "text": [
      "Note: you may need to restart the kernel to use updated packages.\n",
      "Note: you may need to restart the kernel to use updated packages.\n"
     ]
    }
   ],
   "source": [
    "%pip install -qU langchain\n",
    "%pip install -qU huggingface_hub"
   ]
  },
  {
   "cell_type": "code",
   "execution_count": 3,
   "metadata": {},
   "outputs": [],
   "source": [
    "doi_file = '../data/dois.tsv'\n",
    "with open('assets/X-ELS-APIKEY', 'r') as f:\n",
    "    elsevier_api_key = f.read()"
   ]
  },
  {
   "cell_type": "code",
   "execution_count": 4,
   "metadata": {},
   "outputs": [],
   "source": [
    "from scripts.utils import id_convert, get_full_text\n",
    "import pandas as pd\n"
   ]
  },
  {
   "attachments": {},
   "cell_type": "markdown",
   "metadata": {},
   "source": [
    "See which journal articles can be recovered automatically from EuropePMC or Elsevier, the rest will have be downloaded manually"
   ]
  },
  {
   "cell_type": "code",
   "execution_count": 5,
   "metadata": {},
   "outputs": [
    {
     "name": "stdout",
     "output_type": "stream",
     "text": [
      "Add missing documents (XML or PDF): \n",
      "- https://doi.org/10.1039/C2JM31396K\n",
      "- https://doi.org/10.1021/nn1007176\n",
      "- https://doi.org/10.1002/smll.201102743\n",
      "- https://doi.org/10.1021/la203607w\n",
      "- https://doi.org/10.1021/tx400385x\n",
      "- https://doi.org/10.1021/nl202515a\n",
      "- https://doi.org/10.1038/cdd.2010.11\n",
      "- https://doi.org/10.1021/nn202699t\n",
      "- https://doi.org/10.1002/smll.201201546\n",
      "- https://doi.org/10.6023/A20060216\n",
      "- https://doi.org/10.1021/nn101097v\n",
      "- https://doi.org/10.1021/am300253c\n"
     ]
    }
   ],
   "source": [
    "with open(doi_file, 'r') as f:\n",
    "    dois = set([line.replace(\"\\n\", \"\") for line in f.readlines()])\n",
    "    f.close()\n",
    "len(dois)\n",
    "pmcids = [id_convert(doi) for doi in dois]\n",
    "ids = pd.DataFrame([dois, pmcids]).transpose()\n",
    "ids.columns = ['doi', 'pmcid']\n",
    "# Get full text for pmcids\n",
    "for index, row in ids.iterrows():\n",
    "    ids.at[index, 'full_text'] = get_full_text(row['pmcid'], filepath='../data/docs/', doi = row['doi'], elsevier_api_key= elsevier_api_key)\n",
    "manual_download = [\"https://doi.org/\"+row['doi'] for index, row in ids.iterrows() if row['full_text'] == \"\"]\n",
    "print(\"Add missing documents (XML or PDF): \\n- \" + \"\\n- \".join(manual_download))"
   ]
  },
  {
   "cell_type": "code",
   "execution_count": 9,
   "metadata": {},
   "outputs": [],
   "source": [
    "downloaded = [file.split(\".xml\")[0] if 'xml' in file else file.split(\".pdf\")[0] for file in os.listdir('../data/docs')]\n",
    "dois = [doi.split(\"/\")[-1] for doi in dois]\n",
    "\n",
    "for doi in dois:\n",
    "    if doi not in downloaded:\n",
    "        print(f\"Missing document: {doi}\")\n"
   ]
  }
 ],
 "metadata": {
  "kernelspec": {
   "display_name": "base",
   "language": "python",
   "name": "python3"
  },
  "language_info": {
   "codemirror_mode": {
    "name": "ipython",
    "version": 3
   },
   "file_extension": ".py",
   "mimetype": "text/x-python",
   "name": "python",
   "nbconvert_exporter": "python",
   "pygments_lexer": "ipython3",
   "version": "3.9.13"
  },
  "orig_nbformat": 4
 },
 "nbformat": 4,
 "nbformat_minor": 2
}
