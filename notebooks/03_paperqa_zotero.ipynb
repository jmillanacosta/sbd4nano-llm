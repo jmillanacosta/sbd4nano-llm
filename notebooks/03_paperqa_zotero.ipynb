{
 "cells": [
  {
   "cell_type": "code",
   "execution_count": 1,
   "metadata": {},
   "outputs": [],
   "source": [
    "import os\n",
    "# Necessary to import OpenAI\n",
    "with open('assets/openai_api_key', 'r') as f:\n",
    "    os.environ['OPENAI_API_KEY'] = f.read()\n",
    "with open('assets/zotero_api_key', 'r') as f:\n",
    "    os.environ['ZOTERO_API_KEY'] = f.read()\n",
    "with open('assets/zotero_user_id', 'r') as f:\n",
    "    os.environ['ZOTERO_USER_ID'] = f.read()\n",
    "\n",
    "from pathlib import Path\n",
    "import paperqa \n",
    "from langchain.chat_models import ChatOpenAI\n",
    "import pickle\n",
    "import nest_asyncio\n",
    "from IPython.display import display, Markdown, Latex\n",
    "nest_asyncio.apply()\n",
    "import json\n",
    "from paperqa.contrib import ZoteroDB\n",
    "\n"
   ]
  },
  {
   "cell_type": "code",
   "execution_count": 2,
   "metadata": {},
   "outputs": [],
   "source": [
    "docs_pickle = '../data/paperqa/docs_zotero.pickle'\n",
    "model_name = 'gpt-4'"
   ]
  },
  {
   "cell_type": "code",
   "execution_count": 23,
   "metadata": {},
   "outputs": [
    {
     "name": "stdout",
     "output_type": "stream",
     "text": [
      "Looking for papers with attached PDFs in zotero group library\n",
      "0: adding PDF for Understanding the pH-Dependent Behavior of Graphene Oxide Aqueous Solutions: A Comparative Experimental and Molecular Dynamics Simulation Study\n",
      "1: adding PDF for The use of a glucose-reduced graphene oxide suspension for photothermal cancer therapy\n",
      "2: adding PDF for The role of the lateral dimension of graphene oxide in the regulation of cellular responses\n",
      "3: adding PDF for The effects of graphene oxide nanosheets localized on F-actin filaments on cell-cycle alterations\n",
      "4: adding PDF for Surface Chemical Modifications of Graphene Oxide and Interaction Mechanisms at the Nano-Bio Interface\n",
      "5: adding PDF for Size-dependent genotoxicity of graphene nanoplatelets in human stem cells\n",
      "6: adding PDF for Size-Dependent Cell Uptake of Protein-Coated Graphene Oxide Nanosheets\n",
      "7: adding PDF for Simultaneous induction of autophagy and toll-like receptor signaling pathways by graphene oxide\n",
      "8: adding PDF for Nanotoxicity of Graphene and Graphene Oxide\n",
      "9: adding PDF for Minimizing Oxidation and Stable Nanoscale Dispersion Improves the Biocompatibility of Graphene in the Lung\n",
      "10: adding PDF for Mechanism of Cellular Uptake of Graphene Oxide Studied by Surface-Enhanced Raman Spectroscopy\n",
      "11: adding PDF for In vivo biodistribution and toxicology of functionalized nano-graphene oxide in mice after oral and intraperitoneal administration\n",
      "12: adding PDF for In vitro toxicity evaluation of graphene oxide on A549 cells\n",
      "13: adding PDF for Graphene-Based Antibacterial Paper\n",
      "14: adding PDF for Graphene Oxide: A Nonspecific Enhancer of Cellular Growth\n",
      "15: adding PDF for Graphene Oxide, But Not Fullerenes, Targets Immunoproteasomes and Suppresses Antigen Presentation by Dendritic Cells\n",
      "16: adding PDF for Dependence of Graphene Oxide (GO) Toxicity on Oxidation Level, Elemental Composition, and Size\n",
      "17: adding PDF for Biocompatibility of Graphene Oxide\n",
      "18: adding PDF for Cytotoxicity Effects of Graphene and Single-Wall Carbon Nanotubes in Neural Phaeochromocytoma-Derived PC12 Cells\n",
      "19: adding PDF for Cell Death\n",
      "20: adding PDF for An Update on Graphene Oxide: Applications and Toxicity\n",
      "21: adding PDF for A mechanism study on toxicity of graphene oxide to Daphnia magna: Direct link between bioaccumulation and oxidative stress\n"
     ]
    }
   ],
   "source": [
    "from paperqa import Docs, Answer, PromptCollection\n",
    "from langchain.prompts import PromptTemplate\n",
    "my_qaprompt = PromptTemplate(\n",
    "    input_variables=[\"context\", \"question\"],\n",
    "    template=\"Answer the question '{question}' as a bullet point list.\"\n",
    "    \"For each bullet point, include the citation (the paper title) used to give an answer.\"\n",
    "    \"Use the context below. \"\n",
    "    \"If there is insufficient context, answer \\\"NA\\\" \"\n",
    "    \"\\n\\n\"\n",
    "    \"Context: {context}\\n\\n\")\n",
    "prompts=PromptCollection(qa=my_qaprompt)\n",
    "\n",
    "docs = paperqa.Docs(llm=ChatOpenAI(temperature=0.0, model_name=model_name),\n",
    "                prompts=prompts)\n",
    "zotero = ZoteroDB(library_type=\"group\")  # \"group\" if group library\n",
    "doc_number = 0\n",
    "print('Looking for papers with attached PDFs in zotero group library')\n",
    "for item in zotero.iterate():\n",
    "    print(f'{doc_number}: adding PDF for {item.title}')\n",
    "    doc_number+=1\n",
    "    docs.add(item.pdf, docname=item.title)\n",
    "with open(docs_pickle, \"wb\") as f:\n",
    "    pickle.dump(docs, f)\n",
    "docs.memory = True\n",
    "k = 1\n"
   ]
  },
  {
   "cell_type": "code",
   "execution_count": 28,
   "metadata": {},
   "outputs": [
    {
     "data": {
      "text/markdown": [
       "**LLM ANSWER**:\n",
       "\n",
       " - Cells can internalize protein-coated graphene oxide nanosheets (PCGO), with the mechanism of uptake being size-dependent (Source: \"Size-Dependent Cell Uptake of Protein-Coated Graphene Oxide Nanosheets\").\n",
       "- Smaller nanosheets are primarily taken up through clathrin-mediated endocytosis, while larger nanosheets are more likely to be internalized through phagocytosis (Source: \"Size-Dependent Cell Uptake of Protein-Coated Graphene Oxide Nanosheets\").\n",
       "- The internalization of Au-GO (gold-graphene oxide) into Ca Ski cells has been evidenced, with the process increasing significantly at an incubation time of 4 hours, and reaching a maximum at 6 hours (Source: \"Mechanism of Cellular Uptake of Graphene Oxide Studied by Surface-Enhanced Raman Spectroscopy\").\n",
       "- The cellular entry of Au-GO is primarily through energy-dependent, clathrin-mediated endocytosis (Source: \"Mechanism of Cellular Uptake of Graphene Oxide Studied by Surface-Enhanced Raman Spectroscopy\").\n",
       "- PCGO adheres to the cell surface and is then internalized, based on observations of PCGO attaching to the surface of a model cell line, C2C12 (Source: \"Size-Dependent Cell Uptake of Protein-Coated Graphene Oxide Nanosheets\").\n",
       "- Graphene oxide (GO) has been reported to be an efficient intracellular transporter for drug and gene delivery, indicating its ability to enter cells (Source: \"Size-Dependent Cell Uptake of Protein-Coated Graphene Oxide Nanosheets\")."
      ],
      "text/plain": [
       "<IPython.core.display.Markdown object>"
      ]
     },
     "metadata": {},
     "output_type": "display_data"
    }
   ],
   "source": [
    "q = 'Can the cell internalize graphene oxide?'\n",
    "answer = docs.query(q,k=10,max_sources=10)\n",
    "display(Markdown(f'**LLM ANSWER**:\\n\\n {answer.answer}'))\n"
   ]
  },
  {
   "cell_type": "code",
   "execution_count": 29,
   "metadata": {},
   "outputs": [
    {
     "data": {
      "text/markdown": [
       "**LLM ANSWER**:\n",
       "\n",
       " - The size of graphene oxide (GO) sheets does not significantly affect the amount internalized by macrophages, but it does influence the intracellular location and the inflammatory response induced. Only two types of phagocytes were found capable of internalizing GO. (\"The role of the lateral dimension of graphene oxide in the regulation of cellular responses pages 1-1\")\n",
       "- The size of protein-coated graphene oxide nanosheets (PCGO) influences their uptake by cells. Smaller nanosheets are primarily taken up through a process called clathrin-mediated endocytosis, while larger nanosheets are more likely to be taken up through phagocytosis. (\"Size-Dependent Cell Uptake of Protein-Coated Graphene Oxide Nanosheets pages 1-1\")\n",
       "- The uptake of graphene by cells is influenced by its size, with different cellular responses observed based on the lateral dimensions of graphene oxide. In macrophages, particle size affects the cellular response. (\"The role of the lateral dimension of graphene oxide in the regulation of cellular responses pages 8-9\")\n",
       "- The effects of graphene oxide (GO) lateral dimension, from nano to micro, on cellular responses such as cellular uptake, internalization mechanisms, intracellular trafficking, and inflammation response were investigated in two types of macrophages and four non-phagocytic cells. (\"The role of the lateral dimension of graphene oxide in the regulation of cellular responses pages 2-2\")\n",
       "- The size of reduced graphene oxide nanoplatelets (rGONPs) significantly impacts their cytotoxic and genotoxic effects on human mesenchymal stem cells (hMSCs) isolated from umbilical cord blood. (\"Size-dependent genotoxicity of graphene nanoplatelets in human stem cells pages 1-1\")\n",
       "- The size of graphene oxide nanosheets (PCGOs) impacts their uptake by C2C12 cells, a cell line known to possess phagocytic activity. Larger nanosheets are predominantly taken up through phagocytosis, while smaller nanosheets primarily enter cells through clathrin-mediated endocytosis. (\"Size-Dependent Cell Uptake of Protein-Coated Graphene Oxide Nanosheets pages 6-7\")"
      ],
      "text/plain": [
       "<IPython.core.display.Markdown object>"
      ]
     },
     "metadata": {},
     "output_type": "display_data"
    }
   ],
   "source": [
    "q2 = 'How does size impact graphene uptake by the cell? On which cells?'\n",
    "answer2 = docs.query(q2,k=10,max_sources=10)\n",
    "display(Markdown(f'**LLM ANSWER**:\\n\\n {answer2.answer}'))\n"
   ]
  },
  {
   "cell_type": "code",
   "execution_count": 30,
   "metadata": {},
   "outputs": [
    {
     "data": {
      "text/markdown": [
       "**LLM ANSWER**:\n",
       "\n",
       " - Surface functionalization of graphene oxide (GO) significantly impacts its interaction with cells. Unmodified GO in serum absorbs a large amount of protein molecules, which can promote macrophage phagocytosis. However, surface-modified GO (GO-NH 2, GO-PAA, GO-PEG) significantly reduces protein adsorption and interaction with macrophages. The surface properties of GO can also affect its interaction with the cell membrane. Surface modifications can increase or decrease the interaction of GO with the cell membrane. For instance, PEG and PAA modifications can effectively reduce membrane abnormalities, membrane integrity damage, and membrane potential depolarization caused by GO. (\"Surface Chemical Modifications of Graphene Oxide and Interaction Mechanisms at the Nano-Bio Interface\" pages 7-8)\n",
       "  \n",
       "- The primary mechanism of Au-GO (gold-graphene oxide) uptake is clathrin-mediated endocytosis, which is energy-dependent. The same experiment was conducted with GO (graphene oxide) alone, and the results were consistent, indicating that the presence of gold nanoparticles (Au NPs) did not alter the cellular uptake mechanism. (\"Mechanism of Cellular Uptake of Graphene Oxide Studied by Surface-Enhanced Raman Spectroscopy\" pages 6-6)\n",
       "\n",
       "- The surface of GO can be chemically modified to regulate its properties and design specific functionalities. The oxygen-containing functional groups on the surface of GO can be used to control its surface chemistry. These modifications can improve its dispersion, colloidal stability, and biocompatibility under physiological conditions. (\"Surface Chemical Modifications of Graphene Oxide and Interaction Mechanisms at the Nano-Bio Interface\" pages 1-2)\n",
       "\n",
       "- The size of GO sheets affected their internalization by different cell types, with only two types of phagocytes capable of internalizing GO. The study also found that GO sheets of different sizes (2mm and 350 nm) were equally taken up by macrophages, suggesting that size does not affect uptake. The study also found that micro-sized GO induced stronger inflammation responses than nano-sized GO. (\"The role of the lateral dimension of graphene oxide in the regulation of cellular responses\" pages 1-1)\n",
       "\n",
       "- Protein-coated graphene oxide (PCGO) adheres to the cell surface and is then internalized. This adhesion is hypothesized to be due to several factors, including the similar curvature between the nanosheets and plasma membrane, multiple binding forces such as electrostatic and hydrophobic interactions, and potential specific ligand-receptor interactions. (\"Size-Dependent Cell Uptake of Protein-Coated Graphene Oxide Nanosheets\" pages 3-4)\n",
       "\n",
       "- Smaller nanosheets primarily enter cells through clathrin-mediated endocytosis, while larger ones are more likely to be taken up through phagocytosis. (\"Size-Dependent Cell Uptake of Protein-Coated Graphene Oxide Nanosheets\" pages 1-1)"
      ],
      "text/plain": [
       "<IPython.core.display.Markdown object>"
      ]
     },
     "metadata": {},
     "output_type": "display_data"
    }
   ],
   "source": [
    "q3 = 'How does surface functionalization affect graphene oxide interaction with the cell?'\n",
    "answer3 = docs.query(q3,k=10,max_sources=10)\n",
    "display(Markdown(f'**LLM ANSWER**:\\n\\n {answer3.answer}'))\n"
   ]
  },
  {
   "cell_type": "code",
   "execution_count": 32,
   "metadata": {},
   "outputs": [
    {
     "data": {
      "text/markdown": [
       "**LLM ANSWER**:\n",
       "\n",
       " Based on the provided context, the functional groups in the surface of graphene oxide that lead to increased uptake by the cell include:\n",
       "\n",
       "- Oxygen-containing functional groups, which facilitate interaction with cell membranes (\"Surface Chemical Modifications of Graphene Oxide and Interaction Mechanisms at the Nano-Bio Interface\" pages 7-8).\n",
       "- Carbon free radicals, present in highly hydroxylated GO, which can induce stronger lipid peroxidation and cell membrane damage (\"Surface Chemical Modifications of Graphene Oxide and Interaction Mechanisms at the Nano-Bio Interface\" pages 7-8).\n",
       "- Carboxyl (C-COOH) and carbon-carbon groups (C-C and C=C), which contribute to higher molecular toxicity related to DNA damage stress, protein stress, and chemical stress (\"Dependence of Graphene Oxide (GO) Toxicity on Oxidation Level, Elemental Composition, and Size\" pages 11-12).\n",
       "\n",
       "The context does not provide sufficient information to identify additional functional groups on the surface of graphene oxide that could increase cellular uptake."
      ],
      "text/plain": [
       "<IPython.core.display.Markdown object>"
      ]
     },
     "metadata": {},
     "output_type": "display_data"
    }
   ],
   "source": [
    "q4 = 'Which functional groups in the surface of graphene oxide lead to increased uptake by the cell?'\n",
    "answer4 = docs.query(q4,k=10,max_sources=10)\n",
    "display(Markdown(f'**LLM ANSWER**:\\n\\n {answer4.answer}'))\n"
   ]
  }
 ],
 "metadata": {
  "kernelspec": {
   "display_name": "base",
   "language": "python",
   "name": "python3"
  },
  "language_info": {
   "codemirror_mode": {
    "name": "ipython",
    "version": 3
   },
   "file_extension": ".py",
   "mimetype": "text/x-python",
   "name": "python",
   "nbconvert_exporter": "python",
   "pygments_lexer": "ipython3",
   "version": "3.9.13"
  },
  "orig_nbformat": 4
 },
 "nbformat": 4,
 "nbformat_minor": 2
}
